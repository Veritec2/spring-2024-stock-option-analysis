{
 "cells": [
  {
   "cell_type": "code",
   "execution_count": 52,
   "id": "215ad962-b86e-47b7-b881-303089ac16b3",
   "metadata": {},
   "outputs": [],
   "source": [
    "import pandas as pd\n",
    "import numpy as np"
   ]
  },
  {
   "cell_type": "code",
   "execution_count": 53,
   "id": "2e2416bd-832a-44f8-8e87-9d41045cfd60",
   "metadata": {},
   "outputs": [
    {
     "name": "stderr",
     "output_type": "stream",
     "text": [
      "/var/folders/xh/2wkw_sr97y5chj8h8jwwpd6r0000gn/T/ipykernel_35597/1495293352.py:2: DtypeWarning: Columns (23,26,32) have mixed types. Specify dtype option on import or set low_memory=False.\n",
      "  df = pd.read_csv(\"/Users/rahultaduri/data-science-spring-2024/data-science-spring-2024/Project/Data/t9peq0oezmcdvtoo.csv\")\n"
     ]
    }
   ],
   "source": [
    "# Read CSV file with raw data\n",
    "df = pd.read_csv(\"/Users/rahultaduri/data-science-spring-2024/data-science-spring-2024/Project/Data/t9peq0oezmcdvtoo.csv\")"
   ]
  },
  {
   "cell_type": "code",
   "execution_count": 54,
   "id": "cffbd785-c682-483d-83eb-5a472e144ef1",
   "metadata": {},
   "outputs": [],
   "source": [
    "# Remove unnecessary columns\n",
    "df = df[['date','exdate', 'last_date',\n",
    "       'cp_flag', 'strike_price', 'best_bid', 'best_offer', 'volume',\n",
    "       'open_interest', 'impl_volatility', 'delta', 'gamma', 'vega', 'theta',\n",
    "       'optionid', 'contract_size', 'issuer']]"
   ]
  },
  {
   "cell_type": "code",
   "execution_count": 55,
   "id": "68701d75-7eef-4d5a-8104-9198bc3d483a",
   "metadata": {},
   "outputs": [],
   "source": [
    "# Adding a new column with 'days to expiration\n",
    "df[['date','exdate']] = df[['date','exdate']].apply(pd.to_datetime) #if conversion required\n",
    "df['days_to_expiration'] = (df['exdate'] - df['date']).dt.days"
   ]
  },
  {
   "cell_type": "code",
   "execution_count": 56,
   "id": "4e073e39-14f0-4d49-8ef5-92c66f061882",
   "metadata": {},
   "outputs": [],
   "source": [
    "# Group by ticker\n",
    "grouped_df = df.groupby('issuer')\n",
    "AMD_data_raw = grouped_df.get_group('ADVANCED MICRO DEVICES INC.')\n",
    "NVDA_data_raw = grouped_df.get_group('NVIDIA CORP')\n",
    "TSMC_data_raw = grouped_df.get_group('TAIWAN SEMICONDUCTOR MANUFAC')"
   ]
  },
  {
   "cell_type": "code",
   "execution_count": 62,
   "id": "a1984b5a-ea52-4ed3-b7d1-9d007fb0c58b",
   "metadata": {},
   "outputs": [],
   "source": [
    "# Load historical stock data\n",
    "hist_AMD_price = pd.read_csv(\"/Users/rahultaduri/data-science-spring-2024/data-science-spring-2024/Project/Data/AMD_Stock.csv\")\n",
    "hist_NVDA_price = pd.read_csv(\"/Users/rahultaduri/data-science-spring-2024/data-science-spring-2024/Project/Data/NVDA_Stock.csv\")\n",
    "hist_TSMC_price = pd.read_csv(\"/Users/rahultaduri/data-science-spring-2024/data-science-spring-2024/Project/Data/TSMC_Stock.csv\")"
   ]
  },
  {
   "cell_type": "code",
   "execution_count": 65,
   "id": "2b43db97-bc94-432e-b6eb-067bdb5b9619",
   "metadata": {},
   "outputs": [],
   "source": [
    "hist_AMD_price['Date'] = hist_AMD_price['Date'].apply(pd.to_datetime)"
   ]
  },
  {
   "cell_type": "code",
   "execution_count": 66,
   "id": "81c72b56-7f91-4272-bcfb-6200c56ae5d9",
   "metadata": {},
   "outputs": [],
   "source": [
    "# Merge stock data to options dataframe, using only adjusted closing price for options purchase and expiry dates (AMD)\n",
    "AMD_merge = AMD_data_raw.merge(hist_AMD_price[['Date','Adj Close']],how='left',left_on='date',right_on='Date')\n",
    "AMD_merge = AMD_merge.merge(hist_AMD_price[['Date','Adj Close']],how='left',left_on='exdate',right_on='Date')\n",
    "AMD_merge = AMD_merge.rename(columns = {'Adj Close_x':'Adj_Close_date','Adj Close_y':'Adj_Close_exdate'})\n",
    "AMD_merge = AMD_merge.drop(columns = ['Date_x','Date_y'])"
   ]
  },
  {
   "cell_type": "code",
   "execution_count": 67,
   "id": "4af70d63-2443-4b75-8690-68546c9645d8",
   "metadata": {},
   "outputs": [],
   "source": [
    "# Merge stock data to options dataframe, using only adjusted closing price for options purchase and expiry dates (NVDA)\n",
    "NVDA_merge = NVDA_data_raw.merge(hist_AMD_price[['Date','Adj Close']],how='left',left_on='date',right_on='Date')\n",
    "NVDA_merge = NVDA_merge.merge(hist_AMD_price[['Date','Adj Close']],how='left',left_on='exdate',right_on='Date')\n",
    "NVDA_merge = NVDA_merge.rename(columns = {'Adj Close_x':'Adj_Close_date','Adj Close_y':'Adj_Close_exdate'})\n",
    "NVDA_merge = NVDA_merge.drop(columns = ['Date_x','Date_y'])"
   ]
  },
  {
   "cell_type": "code",
   "execution_count": 68,
   "id": "ba7e7389-754b-4d69-95a4-85f90f7cf58b",
   "metadata": {},
   "outputs": [],
   "source": [
    "# Merge stock data to options dataframe, using only adjusted closing price for options purchase and expiry dates (TSMC)\n",
    "TSMC_merge = TSMC_data_raw.merge(hist_AMD_price[['Date','Adj Close']],how='left',left_on='date',right_on='Date')\n",
    "TSMC_merge = TSMC_merge.merge(hist_AMD_price[['Date','Adj Close']],how='left',left_on='exdate',right_on='Date')\n",
    "TSMC_merge = TSMC_merge.rename(columns = {'Adj Close_x':'Adj_Close_date','Adj Close_y':'Adj_Close_exdate'})\n",
    "TSMC_merge = TSMC_merge.drop(columns = ['Date_x','Date_y'])"
   ]
  },
  {
   "cell_type": "code",
   "execution_count": 15,
   "id": "0586c00e-7e6a-45ef-a544-4c885ea493e2",
   "metadata": {},
   "outputs": [],
   "source": [
    "# Add historical volatility column (AMD)\n",
    "\"\"\"AMD_merge['prct_change'] = AMD_merge['Adj_Close_date'].pct_change()\n",
    "inter_list = AMD_merge.prct_change[1:]\n",
    "hist_volatility = []\n",
    "for i in range(1,len(inter_list)+1):\n",
    "   hist_volatility.append(np.std(inter_list[:i])*np.sqrt(252))\n",
    "\n",
    "hist_volatility = hist_volatility[::-1]\n",
    "hist_volatility.append(float(0))\n",
    "hist_volatility = hist_volatility[::-1]\n",
    "AMD_merge[\"hist_volatility\"] = hist_volatility\"\"\""
   ]
  },
  {
   "cell_type": "code",
   "execution_count": 16,
   "id": "91bd36a2-3b2e-4b0c-8188-c1e29596d158",
   "metadata": {},
   "outputs": [],
   "source": [
    "# Add historical volatility column (NVDA)\n",
    "\"\"\"NVDA_merge['prct_change'] = NVDA_merge['Adj_Close_date'].pct_change()\n",
    "inter_list = NVDA_merge.prct_change[1:]\n",
    "hist_volatility = []\n",
    "for i in range(1,len(inter_list)+1):\n",
    "   hist_volatility.append(np.std(inter_list[:i])*np.sqrt(252))\n",
    "\n",
    "hist_volatility = hist_volatility[::-1]\n",
    "hist_volatility.append(float(0))\n",
    "hist_volatility = hist_volatility[::-1]\n",
    "NVDA_merge[\"hist_volatility\"] = hist_volatility\"\"\""
   ]
  },
  {
   "cell_type": "code",
   "execution_count": 17,
   "id": "2e9068dd-92e5-4015-bbc7-3335ec6405ff",
   "metadata": {},
   "outputs": [],
   "source": [
    "# Add historical volatility column (TSMC)\n",
    "\"\"\"TSMC_merge['prct_change'] = TSMC_merge['Adj_Close_date'].pct_change()\n",
    "inter_list = TSMC_merge.prct_change[1:]\n",
    "hist_volatility = []\n",
    "for i in range(1,len(inter_list)+1):\n",
    "   hist_volatility.append(np.std(inter_list[:i])*np.sqrt(252))\n",
    "\n",
    "hist_volatility = hist_volatility[::-1]\n",
    "hist_volatility.append(float(0))\n",
    "hist_volatility = hist_volatility[::-1]\n",
    "TSMC_merge[\"hist_volatility\"] = hist_volatility\"\"\""
   ]
  },
  {
   "cell_type": "code",
   "execution_count": 69,
   "id": "d3ab4b8b-4a65-4efd-a239-6d79040c9588",
   "metadata": {},
   "outputs": [],
   "source": [
    "# Add risk free interest rate column (AMD)\n",
    "rf_interest_rate = pd.read_csv(\"/Users/rahultaduri/data-science-spring-2024/data-science-spring-2024/Project/Data/TNX.csv\",parse_dates=['Date'])\n",
    "rf_interest_rate['date'] = rf_interest_rate.Date\n",
    "rf_interest_rate = rf_interest_rate[['date','Open']]\n",
    "AMD_merge = pd.merge(AMD_merge,rf_interest_rate,on=['date'],how='outer')\n",
    "AMD_merge.rename(columns={'Open':'risk_free_rate'},inplace=True)"
   ]
  },
  {
   "cell_type": "code",
   "execution_count": 70,
   "id": "c877d359-0944-4375-b5e8-32cae6e2d5bf",
   "metadata": {},
   "outputs": [],
   "source": [
    "# Add risk free interest rate column (NVDA)\n",
    "rf_interest_rate = pd.read_csv(\"/Users/rahultaduri/data-science-spring-2024/data-science-spring-2024/Project/Data/TNX.csv\",parse_dates=['Date'])\n",
    "rf_interest_rate['date'] = rf_interest_rate.Date\n",
    "rf_interest_rate = rf_interest_rate[['date','Open']]\n",
    "NVDA_merge = pd.merge(NVDA_merge,rf_interest_rate,on=['date'],how='outer')\n",
    "NVDA_merge.rename(columns={'Open':'risk_free_rate'},inplace=True)"
   ]
  },
  {
   "cell_type": "code",
   "execution_count": 71,
   "id": "3191b50d-1fc6-43a6-afb7-7ec68f477b96",
   "metadata": {},
   "outputs": [],
   "source": [
    "# Add risk free interest rate column (TSMC)\n",
    "rf_interest_rate = pd.read_csv(\"/Users/rahultaduri/data-science-spring-2024/data-science-spring-2024/Project/Data/TNX.csv\",parse_dates=['Date'])\n",
    "rf_interest_rate['date'] = rf_interest_rate.Date\n",
    "rf_interest_rate = rf_interest_rate[['date','Open']]\n",
    "TSMC_merge = pd.merge(TSMC_merge,rf_interest_rate,on=['date'],how='outer')\n",
    "TSMC_merge.rename(columns={'Open':'risk_free_rate'},inplace=True)"
   ]
  },
  {
   "cell_type": "markdown",
   "id": "ce2f358a-04bc-494b-809f-8753ebefa854",
   "metadata": {},
   "source": [
    "Add derived columns to dataframe:\n",
    "1. Spread = Best Offer - Best Bid\n",
    "2. Delta_UL = Underlying stock price change on option purchase and expiry dates\n",
    "3. Delta UL & SP = Difference between option strike price and underlying stock price on option expiry date"
   ]
  },
  {
   "cell_type": "code",
   "execution_count": 72,
   "id": "37c0e1a5-98d5-4e3e-b65f-5a51ae92e6a8",
   "metadata": {},
   "outputs": [],
   "source": [
    "# Implement formulas above for AMD\n",
    "AMD_merge['Spread']=AMD_merge['best_offer']-AMD_merge['best_bid']\n",
    "AMD_merge['Delta_Underlying']=AMD_merge['Adj_Close_exdate']-AMD_merge['Adj_Close_date']\n",
    "AMD_merge['Delta_UL_and_SP']=AMD_merge['strike_price']-AMD_merge['Adj_Close_date']"
   ]
  },
  {
   "cell_type": "code",
   "execution_count": 73,
   "id": "b1b083dd-446d-4bc3-82b5-7a7788f28ca5",
   "metadata": {},
   "outputs": [],
   "source": [
    "# Implement formulas above for NVDA\n",
    "NVDA_merge['Spread']=NVDA_merge['best_offer']-NVDA_merge['best_bid']\n",
    "NVDA_merge['Delta_Underlying']=NVDA_merge['Adj_Close_exdate']-NVDA_merge['Adj_Close_date']\n",
    "NVDA_merge['Delta_UL_and_SP']=NVDA_merge['strike_price']-NVDA_merge['Adj_Close_date']"
   ]
  },
  {
   "cell_type": "code",
   "execution_count": 74,
   "id": "a9f92473-503f-484e-81af-e132a76fed35",
   "metadata": {},
   "outputs": [],
   "source": [
    "# Implement formulas above for TSMC\n",
    "TSMC_merge['Spread']= TSMC_merge['best_offer']- TSMC_merge['best_bid']\n",
    "TSMC_merge['Delta_Underlying']= TSMC_merge['Adj_Close_exdate']- TSMC_merge['Adj_Close_date']\n",
    "TSMC_merge['Delta_UL_and_SP']= TSMC_merge['strike_price']- TSMC_merge['Adj_Close_date']"
   ]
  },
  {
   "cell_type": "code",
   "execution_count": 75,
   "id": "d16ad79b-1c3c-428a-bf0a-d1cd986a35f3",
   "metadata": {},
   "outputs": [],
   "source": [
    "# Adding a new column - sigma\n",
    "AMD_merge['sigma_Adj_close'] = AMD_merge.Adj_Close_date*AMD_merge.impl_volatility*np.sqrt(AMD_merge.days_to_expiration)/365\n",
    "NVDA_merge['sigma_Adj_close'] = NVDA_merge.Adj_Close_date*NVDA_merge.impl_volatility*np.sqrt(NVDA_merge.days_to_expiration)/365\n",
    "TSMC_merge['sigma_Adj_close'] = TSMC_merge.Adj_Close_date*TSMC_merge.impl_volatility*np.sqrt(TSMC_merge.days_to_expiration)/365"
   ]
  },
  {
   "cell_type": "code",
   "execution_count": 76,
   "id": "56fb00a4-f1a3-4d8e-9be6-403a06033031",
   "metadata": {},
   "outputs": [],
   "source": [
    "# AMD puts and call\n",
    "AMD_Puts = AMD_merge[AMD_merge['cp_flag']== 'P']\n",
    "AMD_Calls = AMD_merge[AMD_merge['cp_flag']== 'C']"
   ]
  },
  {
   "cell_type": "code",
   "execution_count": 78,
   "id": "d7bb0162",
   "metadata": {},
   "outputs": [],
   "source": [
    "# NVDA puts and call\n",
    "NVDA_Puts = NVDA_merge[NVDA_merge['cp_flag']== 'P']\n",
    "NVDA_Calls = NVDA_merge[NVDA_merge['cp_flag']== 'C']"
   ]
  },
  {
   "cell_type": "code",
   "execution_count": 79,
   "id": "4a979422",
   "metadata": {},
   "outputs": [],
   "source": [
    "# NVDA puts and call\n",
    "TSMC_Puts = TSMC_merge[TSMC_merge['cp_flag']== 'P']\n",
    "TSMC_Calls = TSMC_merge[TSMC_merge['cp_flag']== 'C']"
   ]
  },
  {
   "cell_type": "code",
   "execution_count": 83,
   "id": "43e70ab9-360a-4e88-9c10-099f68cd4238",
   "metadata": {},
   "outputs": [
    {
     "data": {
      "text/plain": [
       "Index(['date', 'exdate', 'last_date', 'cp_flag', 'strike_price', 'best_bid',\n",
       "       'best_offer', 'volume', 'open_interest', 'impl_volatility', 'delta',\n",
       "       'gamma', 'vega', 'theta', 'optionid', 'contract_size', 'issuer',\n",
       "       'days_to_expiration', 'Adj_Close_date', 'Adj_Close_exdate',\n",
       "       'risk_free_rate', 'Spread', 'Delta_Underlying', 'Delta_UL_and_SP',\n",
       "       'sigma_Adj_close'],\n",
       "      dtype='object')"
      ]
     },
     "execution_count": 83,
     "metadata": {},
     "output_type": "execute_result"
    }
   ],
   "source": [
    "AMD_Puts.columns\n"
   ]
  },
  {
   "cell_type": "code",
   "execution_count": null,
   "id": "da02517b-e66a-4bce-8bce-5e948bbfda58",
   "metadata": {},
   "outputs": [],
   "source": []
  }
 ],
 "metadata": {
  "kernelspec": {
   "display_name": "Python 3 (ipykernel)",
   "language": "python",
   "name": "python3"
  },
  "language_info": {
   "codemirror_mode": {
    "name": "ipython",
    "version": 3
   },
   "file_extension": ".py",
   "mimetype": "text/x-python",
   "name": "python",
   "nbconvert_exporter": "python",
   "pygments_lexer": "ipython3",
   "version": "3.11.7"
  }
 },
 "nbformat": 4,
 "nbformat_minor": 5
}
