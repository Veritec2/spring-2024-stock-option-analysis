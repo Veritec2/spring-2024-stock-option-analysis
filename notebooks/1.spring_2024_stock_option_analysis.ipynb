{
 "cells": [
  {
   "cell_type": "markdown",
   "metadata": {},
   "source": [
    "# Stock Options Analysis"
   ]
  },
  {
   "cell_type": "code",
   "execution_count": 57,
   "metadata": {},
   "outputs": [],
   "source": [
    "import pandas as pd\n",
    "import numpy as np\n",
    "import matplotlib.pyplot as plt\n",
    "import seaborn as sns\n",
    "import os \n",
    "import yfinance as yf\n",
    "sns.set_style(\"whitegrid\")\n",
    "pd.set_option('display.max_columns', None)  # Set to display all columns of dataframes\n"
   ]
  },
  {
   "cell_type": "markdown",
   "metadata": {},
   "source": [
    "## Data\n",
    "\n",
    "Let us try to study the Black-Scholes Model, which require the information\n",
    "\n",
    "i. ***Stock Price (S)***: the corresponding stock prices for each option.\\\n",
    "\n",
    "ii.***Strike Price (K)***: data under the column strike_price.\n",
    "\n",
    "iii. ***Time to Expiry (T)***: subtracting the current date from the expiration date (exdate). Convert the resulting timedelta to years.\n",
    "\n",
    "iv. ***Risk-free Interest Rate (r)***: determine an appropriate risk-free interest rate to use in the model. \n",
    "\n",
    "v. ***Volatility (σ)***: implied volatility, available in your data. "
   ]
  },
  {
   "cell_type": "markdown",
   "metadata": {},
   "source": [
    "### Load options data and download stock data"
   ]
  },
  {
   "cell_type": "code",
   "execution_count": 58,
   "metadata": {},
   "outputs": [
    {
     "name": "stderr",
     "output_type": "stream",
     "text": [
      "/var/folders/q5/69ygwl597nd8rn5pmqr01b580000gn/T/ipykernel_51250/330244623.py:11: DtypeWarning: Columns (23,26,32) have mixed types. Specify dtype option on import or set low_memory=False.\n",
      "  options_data = pd.read_csv(option_data_file)\n"
     ]
    },
    {
     "name": "stdout",
     "output_type": "stream",
     "text": [
      "<class 'pandas.core.frame.DataFrame'>\n",
      "RangeIndex: 1386118 entries, 0 to 1386117\n",
      "Data columns (total 38 columns):\n",
      " #   Column            Non-Null Count    Dtype  \n",
      "---  ------            --------------    -----  \n",
      " 0   secid             1386118 non-null  int64  \n",
      " 1   date              1386118 non-null  object \n",
      " 2   symbol            1386118 non-null  object \n",
      " 3   symbol_flag       1386118 non-null  int64  \n",
      " 4   exdate            1386118 non-null  object \n",
      " 5   last_date         1263749 non-null  object \n",
      " 6   cp_flag           1386118 non-null  object \n",
      " 7   strike_price      1386118 non-null  int64  \n",
      " 8   best_bid          1386118 non-null  float64\n",
      " 9   best_offer        1386118 non-null  float64\n",
      " 10  volume            1386118 non-null  int64  \n",
      " 11  open_interest     1386118 non-null  int64  \n",
      " 12  impl_volatility   1166644 non-null  float64\n",
      " 13  delta             1166644 non-null  float64\n",
      " 14  gamma             1166644 non-null  float64\n",
      " 15  vega              1166644 non-null  float64\n",
      " 16  theta             1166644 non-null  float64\n",
      " 17  optionid          1386118 non-null  int64  \n",
      " 18  cfadj             1386118 non-null  int64  \n",
      " 19  am_settlement     1386118 non-null  int64  \n",
      " 20  contract_size     1386118 non-null  int64  \n",
      " 21  ss_flag           1386118 non-null  int64  \n",
      " 22  forward_price     0 non-null        float64\n",
      " 23  expiry_indicator  438126 non-null   object \n",
      " 24  root              0 non-null        float64\n",
      " 25  suffix            0 non-null        float64\n",
      " 26  cusip             1386118 non-null  object \n",
      " 27  ticker            1386118 non-null  object \n",
      " 28  sic               1386118 non-null  int64  \n",
      " 29  index_flag        1386118 non-null  int64  \n",
      " 30  exchange_d        1386118 non-null  int64  \n",
      " 31  class             0 non-null        float64\n",
      " 32  issue_type        1386118 non-null  object \n",
      " 33  industry_group    34966 non-null    float64\n",
      " 34  issuer            1386118 non-null  object \n",
      " 35  div_convention    0 non-null        float64\n",
      " 36  exercise_style    1386118 non-null  object \n",
      " 37  am_set_flag       0 non-null        float64\n",
      "dtypes: float64(14), int64(13), object(11)\n",
      "memory usage: 401.9+ MB\n",
      "None\n"
     ]
    }
   ],
   "source": [
    "current_dir = os.getcwd()\n",
    "# print(\"Current directory:\", current_dir)\n",
    "\n",
    "\n",
    "# Read the CSV file into a DataFrame\n",
    "# option_data_file = '../data/option_data_2010_2024_cleaned.csv'\n",
    "option_data_file = '../data/options_data.csv'\n",
    "\n",
    "if os.path.exists(option_data_file):\n",
    "    # If file exists, load it directly\n",
    "    options_data = pd.read_csv(option_data_file)\n",
    "else:    \n",
    "\n",
    "    # options_data = pd.read_csv('../data/options_data.csv')\n",
    "    options_data = pd.read_csv('../data/option_data_2010_2024.csv')\n",
    "\n",
    "print(options_data.info())\n"
   ]
  },
  {
   "cell_type": "markdown",
   "metadata": {},
   "source": [
    "## Clean data"
   ]
  },
  {
   "cell_type": "code",
   "execution_count": 59,
   "metadata": {},
   "outputs": [
    {
     "name": "stdout",
     "output_type": "stream",
     "text": [
      "<class 'pandas.core.frame.DataFrame'>\n",
      "RangeIndex: 1386118 entries, 0 to 1386117\n",
      "Data columns (total 38 columns):\n",
      " #   Column            Non-Null Count    Dtype  \n",
      "---  ------            --------------    -----  \n",
      " 0   secid             1386118 non-null  int64  \n",
      " 1   date              1386118 non-null  object \n",
      " 2   symbol            1386118 non-null  object \n",
      " 3   symbol_flag       1386118 non-null  int64  \n",
      " 4   exdate            1386118 non-null  object \n",
      " 5   last_date         1263749 non-null  object \n",
      " 6   cp_flag           1386118 non-null  object \n",
      " 7   strike_price      1386118 non-null  int64  \n",
      " 8   best_bid          1386118 non-null  float64\n",
      " 9   best_offer        1386118 non-null  float64\n",
      " 10  volume            1386118 non-null  int64  \n",
      " 11  open_interest     1386118 non-null  int64  \n",
      " 12  impl_volatility   1166644 non-null  float64\n",
      " 13  delta             1166644 non-null  float64\n",
      " 14  gamma             1166644 non-null  float64\n",
      " 15  vega              1166644 non-null  float64\n",
      " 16  theta             1166644 non-null  float64\n",
      " 17  optionid          1386118 non-null  int64  \n",
      " 18  cfadj             1386118 non-null  int64  \n",
      " 19  am_settlement     1386118 non-null  int64  \n",
      " 20  contract_size     1386118 non-null  int64  \n",
      " 21  ss_flag           1386118 non-null  int64  \n",
      " 22  forward_price     0 non-null        float64\n",
      " 23  expiry_indicator  438126 non-null   object \n",
      " 24  root              0 non-null        float64\n",
      " 25  suffix            0 non-null        float64\n",
      " 26  cusip             1386118 non-null  object \n",
      " 27  ticker            1386118 non-null  object \n",
      " 28  sic               1386118 non-null  int64  \n",
      " 29  index_flag        1386118 non-null  int64  \n",
      " 30  exchange_d        1386118 non-null  int64  \n",
      " 31  class             0 non-null        float64\n",
      " 32  issue_type        1386118 non-null  object \n",
      " 33  industry_group    34966 non-null    float64\n",
      " 34  issuer            1386118 non-null  object \n",
      " 35  div_convention    0 non-null        float64\n",
      " 36  exercise_style    1386118 non-null  object \n",
      " 37  am_set_flag       0 non-null        float64\n",
      "dtypes: float64(14), int64(13), object(11)\n",
      "memory usage: 401.9+ MB\n"
     ]
    }
   ],
   "source": [
    "options_data.info()"
   ]
  },
  {
   "cell_type": "code",
   "execution_count": 60,
   "metadata": {},
   "outputs": [
    {
     "data": {
      "text/plain": [
       "secid                     0\n",
       "date                      0\n",
       "symbol                    0\n",
       "symbol_flag               0\n",
       "exdate                    0\n",
       "last_date            122369\n",
       "cp_flag                   0\n",
       "strike_price              0\n",
       "best_bid                  0\n",
       "best_offer                0\n",
       "volume                    0\n",
       "open_interest             0\n",
       "impl_volatility      219474\n",
       "delta                219474\n",
       "gamma                219474\n",
       "vega                 219474\n",
       "theta                219474\n",
       "optionid                  0\n",
       "cfadj                     0\n",
       "am_settlement             0\n",
       "contract_size             0\n",
       "ss_flag                   0\n",
       "forward_price       1386118\n",
       "expiry_indicator     947992\n",
       "root                1386118\n",
       "suffix              1386118\n",
       "cusip                     0\n",
       "ticker                    0\n",
       "sic                       0\n",
       "index_flag                0\n",
       "exchange_d                0\n",
       "class               1386118\n",
       "issue_type                0\n",
       "industry_group      1351152\n",
       "issuer                    0\n",
       "div_convention      1386118\n",
       "exercise_style            0\n",
       "am_set_flag         1386118\n",
       "dtype: int64"
      ]
     },
     "execution_count": 60,
     "metadata": {},
     "output_type": "execute_result"
    }
   ],
   "source": [
    "options_data.isnull().sum()"
   ]
  },
  {
   "cell_type": "code",
   "execution_count": 61,
   "metadata": {},
   "outputs": [
    {
     "data": {
      "text/html": [
       "<div>\n",
       "<style scoped>\n",
       "    .dataframe tbody tr th:only-of-type {\n",
       "        vertical-align: middle;\n",
       "    }\n",
       "\n",
       "    .dataframe tbody tr th {\n",
       "        vertical-align: top;\n",
       "    }\n",
       "\n",
       "    .dataframe thead th {\n",
       "        text-align: right;\n",
       "    }\n",
       "</style>\n",
       "<table border=\"1\" class=\"dataframe\">\n",
       "  <thead>\n",
       "    <tr style=\"text-align: right;\">\n",
       "      <th></th>\n",
       "      <th>secid</th>\n",
       "      <th>date</th>\n",
       "      <th>symbol</th>\n",
       "      <th>symbol_flag</th>\n",
       "      <th>exdate</th>\n",
       "      <th>last_date</th>\n",
       "      <th>cp_flag</th>\n",
       "      <th>strike_price</th>\n",
       "      <th>best_bid</th>\n",
       "      <th>best_offer</th>\n",
       "      <th>volume</th>\n",
       "      <th>open_interest</th>\n",
       "      <th>impl_volatility</th>\n",
       "      <th>delta</th>\n",
       "      <th>gamma</th>\n",
       "      <th>vega</th>\n",
       "      <th>theta</th>\n",
       "      <th>optionid</th>\n",
       "      <th>cfadj</th>\n",
       "      <th>am_settlement</th>\n",
       "      <th>contract_size</th>\n",
       "      <th>ss_flag</th>\n",
       "      <th>forward_price</th>\n",
       "      <th>expiry_indicator</th>\n",
       "      <th>root</th>\n",
       "      <th>suffix</th>\n",
       "      <th>cusip</th>\n",
       "      <th>ticker</th>\n",
       "      <th>sic</th>\n",
       "      <th>index_flag</th>\n",
       "      <th>exchange_d</th>\n",
       "      <th>class</th>\n",
       "      <th>issue_type</th>\n",
       "      <th>industry_group</th>\n",
       "      <th>issuer</th>\n",
       "      <th>div_convention</th>\n",
       "      <th>exercise_style</th>\n",
       "      <th>am_set_flag</th>\n",
       "    </tr>\n",
       "  </thead>\n",
       "  <tbody>\n",
       "    <tr>\n",
       "      <th>0</th>\n",
       "      <td>101121</td>\n",
       "      <td>2022-02-28</td>\n",
       "      <td>AMD 220304P143000</td>\n",
       "      <td>1</td>\n",
       "      <td>2022-03-04</td>\n",
       "      <td>2022-02-28</td>\n",
       "      <td>P</td>\n",
       "      <td>143000</td>\n",
       "      <td>18.30</td>\n",
       "      <td>21.70</td>\n",
       "      <td>1</td>\n",
       "      <td>43</td>\n",
       "      <td>0.919996</td>\n",
       "      <td>-0.931618</td>\n",
       "      <td>0.011129</td>\n",
       "      <td>1.700479</td>\n",
       "      <td>-71.04977</td>\n",
       "      <td>144642442</td>\n",
       "      <td>1</td>\n",
       "      <td>0</td>\n",
       "      <td>100</td>\n",
       "      <td>0</td>\n",
       "      <td>NaN</td>\n",
       "      <td>w</td>\n",
       "      <td>NaN</td>\n",
       "      <td>NaN</td>\n",
       "      <td>790310</td>\n",
       "      <td>AMD</td>\n",
       "      <td>3674</td>\n",
       "      <td>0</td>\n",
       "      <td>5</td>\n",
       "      <td>NaN</td>\n",
       "      <td>0</td>\n",
       "      <td>NaN</td>\n",
       "      <td>ADVANCED MICRO DEVICES INC.</td>\n",
       "      <td>NaN</td>\n",
       "      <td>A</td>\n",
       "      <td>NaN</td>\n",
       "    </tr>\n",
       "    <tr>\n",
       "      <th>1</th>\n",
       "      <td>101121</td>\n",
       "      <td>2022-02-28</td>\n",
       "      <td>AMD 220304P144000</td>\n",
       "      <td>1</td>\n",
       "      <td>2022-03-04</td>\n",
       "      <td>2022-02-22</td>\n",
       "      <td>P</td>\n",
       "      <td>144000</td>\n",
       "      <td>19.65</td>\n",
       "      <td>22.55</td>\n",
       "      <td>0</td>\n",
       "      <td>8</td>\n",
       "      <td>1.009123</td>\n",
       "      <td>-0.921234</td>\n",
       "      <td>0.011298</td>\n",
       "      <td>1.898582</td>\n",
       "      <td>-86.91409</td>\n",
       "      <td>144642443</td>\n",
       "      <td>1</td>\n",
       "      <td>0</td>\n",
       "      <td>100</td>\n",
       "      <td>0</td>\n",
       "      <td>NaN</td>\n",
       "      <td>w</td>\n",
       "      <td>NaN</td>\n",
       "      <td>NaN</td>\n",
       "      <td>790310</td>\n",
       "      <td>AMD</td>\n",
       "      <td>3674</td>\n",
       "      <td>0</td>\n",
       "      <td>5</td>\n",
       "      <td>NaN</td>\n",
       "      <td>0</td>\n",
       "      <td>NaN</td>\n",
       "      <td>ADVANCED MICRO DEVICES INC.</td>\n",
       "      <td>NaN</td>\n",
       "      <td>A</td>\n",
       "      <td>NaN</td>\n",
       "    </tr>\n",
       "    <tr>\n",
       "      <th>2</th>\n",
       "      <td>101121</td>\n",
       "      <td>2022-02-28</td>\n",
       "      <td>AMD 220304P145000</td>\n",
       "      <td>1</td>\n",
       "      <td>2022-03-04</td>\n",
       "      <td>2022-02-28</td>\n",
       "      <td>P</td>\n",
       "      <td>145000</td>\n",
       "      <td>20.45</td>\n",
       "      <td>23.70</td>\n",
       "      <td>3</td>\n",
       "      <td>154</td>\n",
       "      <td>1.029200</td>\n",
       "      <td>-0.926204</td>\n",
       "      <td>0.010543</td>\n",
       "      <td>1.805097</td>\n",
       "      <td>-84.34332</td>\n",
       "      <td>144642444</td>\n",
       "      <td>1</td>\n",
       "      <td>0</td>\n",
       "      <td>100</td>\n",
       "      <td>0</td>\n",
       "      <td>NaN</td>\n",
       "      <td>w</td>\n",
       "      <td>NaN</td>\n",
       "      <td>NaN</td>\n",
       "      <td>790310</td>\n",
       "      <td>AMD</td>\n",
       "      <td>3674</td>\n",
       "      <td>0</td>\n",
       "      <td>5</td>\n",
       "      <td>NaN</td>\n",
       "      <td>0</td>\n",
       "      <td>NaN</td>\n",
       "      <td>ADVANCED MICRO DEVICES INC.</td>\n",
       "      <td>NaN</td>\n",
       "      <td>A</td>\n",
       "      <td>NaN</td>\n",
       "    </tr>\n",
       "    <tr>\n",
       "      <th>3</th>\n",
       "      <td>101121</td>\n",
       "      <td>2022-02-28</td>\n",
       "      <td>AMD 220304P146000</td>\n",
       "      <td>1</td>\n",
       "      <td>2022-03-04</td>\n",
       "      <td>2022-02-28</td>\n",
       "      <td>P</td>\n",
       "      <td>146000</td>\n",
       "      <td>21.30</td>\n",
       "      <td>24.75</td>\n",
       "      <td>10</td>\n",
       "      <td>72</td>\n",
       "      <td>1.032943</td>\n",
       "      <td>-0.933979</td>\n",
       "      <td>0.009645</td>\n",
       "      <td>1.653858</td>\n",
       "      <td>-77.66636</td>\n",
       "      <td>144642445</td>\n",
       "      <td>1</td>\n",
       "      <td>0</td>\n",
       "      <td>100</td>\n",
       "      <td>0</td>\n",
       "      <td>NaN</td>\n",
       "      <td>w</td>\n",
       "      <td>NaN</td>\n",
       "      <td>NaN</td>\n",
       "      <td>790310</td>\n",
       "      <td>AMD</td>\n",
       "      <td>3674</td>\n",
       "      <td>0</td>\n",
       "      <td>5</td>\n",
       "      <td>NaN</td>\n",
       "      <td>0</td>\n",
       "      <td>NaN</td>\n",
       "      <td>ADVANCED MICRO DEVICES INC.</td>\n",
       "      <td>NaN</td>\n",
       "      <td>A</td>\n",
       "      <td>NaN</td>\n",
       "    </tr>\n",
       "    <tr>\n",
       "      <th>4</th>\n",
       "      <td>101121</td>\n",
       "      <td>2022-02-28</td>\n",
       "      <td>AMD 220304P147000</td>\n",
       "      <td>1</td>\n",
       "      <td>2022-03-04</td>\n",
       "      <td>2022-02-28</td>\n",
       "      <td>P</td>\n",
       "      <td>147000</td>\n",
       "      <td>23.50</td>\n",
       "      <td>25.75</td>\n",
       "      <td>6</td>\n",
       "      <td>86</td>\n",
       "      <td>1.347105</td>\n",
       "      <td>-0.879729</td>\n",
       "      <td>0.011528</td>\n",
       "      <td>2.587893</td>\n",
       "      <td>-158.53520</td>\n",
       "      <td>144642446</td>\n",
       "      <td>1</td>\n",
       "      <td>0</td>\n",
       "      <td>100</td>\n",
       "      <td>0</td>\n",
       "      <td>NaN</td>\n",
       "      <td>w</td>\n",
       "      <td>NaN</td>\n",
       "      <td>NaN</td>\n",
       "      <td>790310</td>\n",
       "      <td>AMD</td>\n",
       "      <td>3674</td>\n",
       "      <td>0</td>\n",
       "      <td>5</td>\n",
       "      <td>NaN</td>\n",
       "      <td>0</td>\n",
       "      <td>NaN</td>\n",
       "      <td>ADVANCED MICRO DEVICES INC.</td>\n",
       "      <td>NaN</td>\n",
       "      <td>A</td>\n",
       "      <td>NaN</td>\n",
       "    </tr>\n",
       "  </tbody>\n",
       "</table>\n",
       "</div>"
      ],
      "text/plain": [
       "    secid        date             symbol  symbol_flag      exdate   last_date  \\\n",
       "0  101121  2022-02-28  AMD 220304P143000            1  2022-03-04  2022-02-28   \n",
       "1  101121  2022-02-28  AMD 220304P144000            1  2022-03-04  2022-02-22   \n",
       "2  101121  2022-02-28  AMD 220304P145000            1  2022-03-04  2022-02-28   \n",
       "3  101121  2022-02-28  AMD 220304P146000            1  2022-03-04  2022-02-28   \n",
       "4  101121  2022-02-28  AMD 220304P147000            1  2022-03-04  2022-02-28   \n",
       "\n",
       "  cp_flag  strike_price  best_bid  best_offer  volume  open_interest  \\\n",
       "0       P        143000     18.30       21.70       1             43   \n",
       "1       P        144000     19.65       22.55       0              8   \n",
       "2       P        145000     20.45       23.70       3            154   \n",
       "3       P        146000     21.30       24.75      10             72   \n",
       "4       P        147000     23.50       25.75       6             86   \n",
       "\n",
       "   impl_volatility     delta     gamma      vega      theta   optionid  cfadj  \\\n",
       "0         0.919996 -0.931618  0.011129  1.700479  -71.04977  144642442      1   \n",
       "1         1.009123 -0.921234  0.011298  1.898582  -86.91409  144642443      1   \n",
       "2         1.029200 -0.926204  0.010543  1.805097  -84.34332  144642444      1   \n",
       "3         1.032943 -0.933979  0.009645  1.653858  -77.66636  144642445      1   \n",
       "4         1.347105 -0.879729  0.011528  2.587893 -158.53520  144642446      1   \n",
       "\n",
       "   am_settlement  contract_size  ss_flag  forward_price expiry_indicator  \\\n",
       "0              0            100        0            NaN                w   \n",
       "1              0            100        0            NaN                w   \n",
       "2              0            100        0            NaN                w   \n",
       "3              0            100        0            NaN                w   \n",
       "4              0            100        0            NaN                w   \n",
       "\n",
       "   root  suffix   cusip ticker   sic  index_flag  exchange_d  class  \\\n",
       "0   NaN     NaN  790310    AMD  3674           0           5    NaN   \n",
       "1   NaN     NaN  790310    AMD  3674           0           5    NaN   \n",
       "2   NaN     NaN  790310    AMD  3674           0           5    NaN   \n",
       "3   NaN     NaN  790310    AMD  3674           0           5    NaN   \n",
       "4   NaN     NaN  790310    AMD  3674           0           5    NaN   \n",
       "\n",
       "  issue_type  industry_group                       issuer  div_convention  \\\n",
       "0          0             NaN  ADVANCED MICRO DEVICES INC.             NaN   \n",
       "1          0             NaN  ADVANCED MICRO DEVICES INC.             NaN   \n",
       "2          0             NaN  ADVANCED MICRO DEVICES INC.             NaN   \n",
       "3          0             NaN  ADVANCED MICRO DEVICES INC.             NaN   \n",
       "4          0             NaN  ADVANCED MICRO DEVICES INC.             NaN   \n",
       "\n",
       "  exercise_style  am_set_flag  \n",
       "0              A          NaN  \n",
       "1              A          NaN  \n",
       "2              A          NaN  \n",
       "3              A          NaN  \n",
       "4              A          NaN  "
      ]
     },
     "execution_count": 61,
     "metadata": {},
     "output_type": "execute_result"
    }
   ],
   "source": [
    "options_data.head()"
   ]
  },
  {
   "cell_type": "markdown",
   "metadata": {},
   "source": [
    "#### Keep relevent columns, drop others\n",
    "\n",
    "Drop all columns with all missing values and unnecessary categorical columns.\n",
    "\n",
    "After dropping columns that do not have values, we have the remainging columns as below. We can drop more columns as we understand the nature of dataset and those columns may not influence our machine learning model. \n",
    "\n",
    "|secid:| Security ID, a unique identifier for each security.|\n",
    "|---|---|\n",
    "|date:| Date of the options data.|\n",
    "|symbol:| Symbol of the security.|\n",
    "|symbol_flag:| Flag indicating the type of symbol.|\n",
    "|exdate:| Expiration date of the option.|\n",
    "|last_date:| Last trading date of the option.|\n",
    "|cp_flag:| Call (C) or Put (P) option flag.|\n",
    "|strike_price:| Strike price of the option.|\n",
    "|best_bid:| Best bid price for the option.|\n",
    "|best_offer:| Best offer price for the option.|\n",
    "|volume: Volume| of contracts traded.|\n",
    "|open_interest:| Open interest for the option.|\n",
    "|impl_volatility:| Implied volatility of the option.|\n",
    "|delta:| Delta value of the option.|\n",
    "|gamma:| Gamma value of the option.|\n",
    "|vega:| Vega value of the option.|\n",
    "|theta:| Theta value of the option.|\n",
    "|optionid:| Option ID, a unique identifier for each option.|\n",
    "|cfadj:| Adjustment factor for cash flow.|\n",
    "|am_settlement:| American-style settlement flag.|\n",
    "|contract_size:| Size of the contract.|\n",
    "|ss_flag:| Special security flag.|\n",
    "|expiry_indicator:| Expiry indicator, 'w' meaning weekly|\n",
    "|cusip:| CUSIP number, a unique identifier for securities in the U.S. and Canada.|\n",
    "|ticker: | Ticker symbol of the security.|\n",
    "|sic:| Standard Industrial Classification (SIC) code.|\n",
    "|index_flag:| Index security flag.|\n",
    "|exchange_d:| Exchange identifier.|\n",
    "|issue_type:| Type of issue.|\n",
    "|industry_group:| Industry group.|\n",
    "|issuer:| Issuer of the security.|\n",
    "|exercise_style:| Exercise style of the option (e.g., American or European).|"
   ]
  },
  {
   "cell_type": "code",
   "execution_count": 62,
   "metadata": {},
   "outputs": [],
   "source": [
    "# Drop all columns with all missing values\n",
    "options_data.dropna(axis=1, how='all', inplace=True)\n"
   ]
  },
  {
   "cell_type": "code",
   "execution_count": 63,
   "metadata": {},
   "outputs": [
    {
     "name": "stdout",
     "output_type": "stream",
     "text": [
      "<class 'pandas.core.frame.DataFrame'>\n",
      "RangeIndex: 1386118 entries, 0 to 1386117\n",
      "Data columns (total 32 columns):\n",
      " #   Column            Non-Null Count    Dtype  \n",
      "---  ------            --------------    -----  \n",
      " 0   secid             1386118 non-null  int64  \n",
      " 1   date              1386118 non-null  object \n",
      " 2   symbol            1386118 non-null  object \n",
      " 3   symbol_flag       1386118 non-null  int64  \n",
      " 4   exdate            1386118 non-null  object \n",
      " 5   last_date         1263749 non-null  object \n",
      " 6   cp_flag           1386118 non-null  object \n",
      " 7   strike_price      1386118 non-null  int64  \n",
      " 8   best_bid          1386118 non-null  float64\n",
      " 9   best_offer        1386118 non-null  float64\n",
      " 10  volume            1386118 non-null  int64  \n",
      " 11  open_interest     1386118 non-null  int64  \n",
      " 12  impl_volatility   1166644 non-null  float64\n",
      " 13  delta             1166644 non-null  float64\n",
      " 14  gamma             1166644 non-null  float64\n",
      " 15  vega              1166644 non-null  float64\n",
      " 16  theta             1166644 non-null  float64\n",
      " 17  optionid          1386118 non-null  int64  \n",
      " 18  cfadj             1386118 non-null  int64  \n",
      " 19  am_settlement     1386118 non-null  int64  \n",
      " 20  contract_size     1386118 non-null  int64  \n",
      " 21  ss_flag           1386118 non-null  int64  \n",
      " 22  expiry_indicator  438126 non-null   object \n",
      " 23  cusip             1386118 non-null  object \n",
      " 24  ticker            1386118 non-null  object \n",
      " 25  sic               1386118 non-null  int64  \n",
      " 26  index_flag        1386118 non-null  int64  \n",
      " 27  exchange_d        1386118 non-null  int64  \n",
      " 28  issue_type        1386118 non-null  object \n",
      " 29  industry_group    34966 non-null    float64\n",
      " 30  issuer            1386118 non-null  object \n",
      " 31  exercise_style    1386118 non-null  object \n",
      "dtypes: float64(8), int64(13), object(11)\n",
      "memory usage: 338.4+ MB\n"
     ]
    }
   ],
   "source": [
    "options_data.info()"
   ]
  },
  {
   "cell_type": "code",
   "execution_count": 64,
   "metadata": {},
   "outputs": [],
   "source": [
    "# Drop some more categorical columns that are not necessary\n",
    "# columns_to_drop =['secid', 'symbol', 'symbol_flag', 'last_date', 'optionid',\n",
    "#                   'cfadj', 'am_settlement', 'ss_flag', 'expiry_indicator', \n",
    "#                   'exchange_d', 'issue_type', 'industry_group', 'issuer',\n",
    "#                   'cusip', 'sic', 'index_flag', 'exercise_style'] \n",
    "# options_data = options_data.drop(columns=columns_to_drop)\n",
    "\n",
    "columns_to_keep = ['date', 'exdate', 'cp_flag', 'strike_price',\n",
    "                   'best_bid', 'best_offer', 'volume', 'open_interest',\n",
    "                   'impl_volatility', 'delta', 'gamma', 'vega', 'theta', \n",
    "                   'contract_size', 'ticker']\n",
    "options_data = options_data[columns_to_keep]\n",
    "# Here are the remaining columns\n"
   ]
  },
  {
   "cell_type": "code",
   "execution_count": 65,
   "metadata": {},
   "outputs": [
    {
     "name": "stdout",
     "output_type": "stream",
     "text": [
      "<class 'pandas.core.frame.DataFrame'>\n",
      "RangeIndex: 1386118 entries, 0 to 1386117\n",
      "Data columns (total 15 columns):\n",
      " #   Column           Non-Null Count    Dtype  \n",
      "---  ------           --------------    -----  \n",
      " 0   date             1386118 non-null  object \n",
      " 1   exdate           1386118 non-null  object \n",
      " 2   cp_flag          1386118 non-null  object \n",
      " 3   strike_price     1386118 non-null  int64  \n",
      " 4   best_bid         1386118 non-null  float64\n",
      " 5   best_offer       1386118 non-null  float64\n",
      " 6   volume           1386118 non-null  int64  \n",
      " 7   open_interest    1386118 non-null  int64  \n",
      " 8   impl_volatility  1166644 non-null  float64\n",
      " 9   delta            1166644 non-null  float64\n",
      " 10  gamma            1166644 non-null  float64\n",
      " 11  vega             1166644 non-null  float64\n",
      " 12  theta            1166644 non-null  float64\n",
      " 13  contract_size    1386118 non-null  int64  \n",
      " 14  ticker           1386118 non-null  object \n",
      "dtypes: float64(7), int64(4), object(4)\n",
      "memory usage: 158.6+ MB\n"
     ]
    }
   ],
   "source": [
    "options_data.info()"
   ]
  },
  {
   "cell_type": "markdown",
   "metadata": {},
   "source": [
    "#### Convert date columns to datetime"
   ]
  },
  {
   "cell_type": "code",
   "execution_count": 66,
   "metadata": {},
   "outputs": [
    {
     "name": "stdout",
     "output_type": "stream",
     "text": [
      "\n",
      "Unique values in cp_flag column: ['P' 'C']\n",
      "\n",
      "Unique values in ticker column: ['AMD' 'NVDA' 'TSM' 'SMCI']\n",
      "\n",
      "Unique values in contract_size column: [100 172]\n",
      "\n",
      "Unique values in open_interest column: [   43     8   154 ... 42576 14955 15329]\n"
     ]
    }
   ],
   "source": [
    "# Explore categorical columns\n",
    "print(\"\\nUnique values in cp_flag column:\", options_data['cp_flag'].unique())\n",
    "print(\"\\nUnique values in ticker column:\", options_data['ticker'].unique())\n",
    "print(\"\\nUnique values in contract_size column:\", options_data['contract_size'].unique())\n",
    "\n",
    "unique_open_interest = options_data['open_interest'].unique()\n",
    "print(\"\\nUnique values in open_interest column:\", options_data['open_interest'].unique())\n",
    "\n",
    "# for oi in unique_open_interest:\n",
    "#     print(oi)\n"
   ]
  },
  {
   "cell_type": "markdown",
   "metadata": {},
   "source": [
    "***open_interest***\n",
    "ref: https://www.investopedia.com/terms/o/openinterest.asp#:~:text=Open%20interest%20is%20the%20total,tracking%20the%20total%20volume%20traded.\n",
    "\n",
    "\"Open interest is the total number of outstanding derivative contracts for an asset—such as options or futures—that have not been settled. Open interest keeps track of every open position in a particular contract rather than tracking the total volume traded.\""
   ]
  },
  {
   "cell_type": "code",
   "execution_count": 67,
   "metadata": {},
   "outputs": [
    {
     "name": "stdout",
     "output_type": "stream",
     "text": [
      "\n",
      "Summary statistics of numerical columns:\n",
      "        strike_price      best_bid    best_offer        volume  open_interest  \\\n",
      "count  1.386118e+06  1.386118e+06  1.386118e+06  1.386118e+06   1.386118e+06   \n",
      "mean   1.640545e+05  3.690964e+01  3.829978e+01  2.198346e+02   1.229064e+03   \n",
      "std    1.096561e+05  5.998198e+01  6.119734e+01  1.725485e+03   3.150095e+03   \n",
      "min    5.000000e+03  0.000000e+00  1.000000e-02  0.000000e+00   0.000000e+00   \n",
      "25%    8.500000e+04  8.500000e-01  1.200000e+00  0.000000e+00   7.000000e+00   \n",
      "50%    1.300000e+05  1.095000e+01  1.175000e+01  1.000000e+00   1.590000e+02   \n",
      "75%    2.150000e+05  4.620000e+01  4.850000e+01  2.875000e+01   9.540000e+02   \n",
      "max    6.000000e+05  4.853000e+02  4.915500e+02  1.764690e+05   9.757500e+04   \n",
      "\n",
      "       impl_volatility         delta         gamma          vega  \\\n",
      "count     1.166644e+06  1.166644e+06  1.166644e+06  1.166644e+06   \n",
      "mean      6.532276e-01 -1.093080e-02  9.271234e-03  1.646618e+01   \n",
      "std       3.339506e-01  5.886337e-01  1.365108e-02  2.148920e+01   \n",
      "min       8.018000e-02 -9.999280e-01  0.000000e+00  5.160000e-04   \n",
      "25%       4.814620e-01 -4.304412e-01  1.695000e-03  2.109112e+00   \n",
      "50%       5.562720e-01  1.490000e-03  4.514000e-03  7.883527e+00   \n",
      "75%       6.954575e-01  3.862302e-01  1.091800e-02  2.219063e+01   \n",
      "max       2.999406e+00  9.999960e-01  3.568210e-01  1.536658e+02   \n",
      "\n",
      "              theta  contract_size  \n",
      "count  1.166644e+06   1.386118e+06  \n",
      "mean  -1.884714e+01   1.035489e+02  \n",
      "std    3.203529e+01   1.558608e+01  \n",
      "min   -1.014567e+03   1.000000e+02  \n",
      "25%   -2.116794e+01   1.000000e+02  \n",
      "50%   -9.868769e+00   1.000000e+02  \n",
      "75%   -3.972248e+00   1.000000e+02  \n",
      "max    8.139670e+00   1.720000e+02  \n"
     ]
    }
   ],
   "source": [
    "# Explore numerical columns\n",
    "print(\"\\nSummary statistics of numerical columns:\\n\", options_data.describe())"
   ]
  },
  {
   "cell_type": "code",
   "execution_count": 68,
   "metadata": {},
   "outputs": [
    {
     "data": {
      "text/plain": [
       "date                    0\n",
       "exdate                  0\n",
       "cp_flag                 0\n",
       "strike_price            0\n",
       "best_bid                0\n",
       "best_offer              0\n",
       "volume                  0\n",
       "open_interest           0\n",
       "impl_volatility    219474\n",
       "delta              219474\n",
       "gamma              219474\n",
       "vega               219474\n",
       "theta              219474\n",
       "contract_size           0\n",
       "ticker                  0\n",
       "dtype: int64"
      ]
     },
     "execution_count": 68,
     "metadata": {},
     "output_type": "execute_result"
    }
   ],
   "source": [
    "# Double-check null values\n",
    "options_data.isnull().sum()\n",
    "\n",
    "# We observed that there are some missing values of the implied volatility and the Greeks. "
   ]
  },
  {
   "cell_type": "markdown",
   "metadata": {},
   "source": [
    "#### Convert datatime"
   ]
  },
  {
   "cell_type": "code",
   "execution_count": 69,
   "metadata": {},
   "outputs": [],
   "source": [
    "options_data['date'] = pd.to_datetime(options_data['date'])\n",
    "options_data['exdate'] = pd.to_datetime(options_data['exdate'])\n"
   ]
  },
  {
   "cell_type": "markdown",
   "metadata": {},
   "source": [
    "#### Check for dupplicates"
   ]
  },
  {
   "cell_type": "code",
   "execution_count": 70,
   "metadata": {},
   "outputs": [],
   "source": [
    "options_data.drop_duplicates(inplace=True)"
   ]
  },
  {
   "cell_type": "code",
   "execution_count": 71,
   "metadata": {},
   "outputs": [
    {
     "name": "stdout",
     "output_type": "stream",
     "text": [
      "<class 'pandas.core.frame.DataFrame'>\n",
      "RangeIndex: 1386118 entries, 0 to 1386117\n",
      "Data columns (total 15 columns):\n",
      " #   Column           Non-Null Count    Dtype         \n",
      "---  ------           --------------    -----         \n",
      " 0   date             1386118 non-null  datetime64[ns]\n",
      " 1   exdate           1386118 non-null  datetime64[ns]\n",
      " 2   cp_flag          1386118 non-null  object        \n",
      " 3   strike_price     1386118 non-null  int64         \n",
      " 4   best_bid         1386118 non-null  float64       \n",
      " 5   best_offer       1386118 non-null  float64       \n",
      " 6   volume           1386118 non-null  int64         \n",
      " 7   open_interest    1386118 non-null  int64         \n",
      " 8   impl_volatility  1166644 non-null  float64       \n",
      " 9   delta            1166644 non-null  float64       \n",
      " 10  gamma            1166644 non-null  float64       \n",
      " 11  vega             1166644 non-null  float64       \n",
      " 12  theta            1166644 non-null  float64       \n",
      " 13  contract_size    1386118 non-null  int64         \n",
      " 14  ticker           1386118 non-null  object        \n",
      "dtypes: datetime64[ns](2), float64(7), int64(4), object(2)\n",
      "memory usage: 158.6+ MB\n"
     ]
    }
   ],
   "source": [
    "options_data.info()"
   ]
  },
  {
   "cell_type": "markdown",
   "metadata": {},
   "source": [
    "#### Check missing values\n",
    "\n",
    "We observed that there are significant number of missing values of the columns : impl_volatility, and the Greeks. let us drop all these rows"
   ]
  },
  {
   "cell_type": "code",
   "execution_count": 72,
   "metadata": {},
   "outputs": [
    {
     "data": {
      "text/plain": [
       "date                    0\n",
       "exdate                  0\n",
       "cp_flag                 0\n",
       "strike_price            0\n",
       "best_bid                0\n",
       "best_offer              0\n",
       "volume                  0\n",
       "open_interest           0\n",
       "impl_volatility    219474\n",
       "delta              219474\n",
       "gamma              219474\n",
       "vega               219474\n",
       "theta              219474\n",
       "contract_size           0\n",
       "ticker                  0\n",
       "dtype: int64"
      ]
     },
     "execution_count": 72,
     "metadata": {},
     "output_type": "execute_result"
    }
   ],
   "source": [
    "options_data.isnull().sum()"
   ]
  },
  {
   "cell_type": "markdown",
   "metadata": {},
   "source": [
    "#### Implied Volatility and the Greeks\n",
    "We need more investigation about the Greeks and the implied volatility, so let us just drop the missing values for now and study based on what we have. In the future, when we have better understanding about them, we may interpolate data instead of dropping them, which reduce the size ot the dataset significantly.\n",
    "\n",
    "Ref: \n",
    "1.https://www.investopedia.com/terms/i/iv.asp#:~:text=Volatility%20(IV)%20Works-,Implied%20volatility%20is%20the%20market's%20forecast%20of%20a%20likely%20movement,the%20symbol%20%CF%83%20(sigma).\n",
    "\n",
    "2. WQU\n",
    "\n",
    "3. https://www.investopedia.com/trading/getting-to-know-the-greeks/#:~:text=Option%20Greeks%20are%20financial%20metrics,price%20of%20the%20underlying%20asset.\n",
    "\n",
    "\n",
    "Implied Volatility: this is a significantly important regarding to stock options, which is the key to the options's price and also influence stock price. Other numeric inputs like, stock price, strike level, risk-free rate, and dividend yield, are easily observed in the market.\n"
   ]
  },
  {
   "cell_type": "code",
   "execution_count": 73,
   "metadata": {},
   "outputs": [],
   "source": [
    "# Drop rows with missing values in the specified columns\n",
    "options_data.dropna(subset=['impl_volatility', 'delta', 'gamma', 'vega', 'theta'], inplace=True)\n"
   ]
  },
  {
   "cell_type": "code",
   "execution_count": 74,
   "metadata": {},
   "outputs": [
    {
     "data": {
      "text/html": [
       "<div>\n",
       "<style scoped>\n",
       "    .dataframe tbody tr th:only-of-type {\n",
       "        vertical-align: middle;\n",
       "    }\n",
       "\n",
       "    .dataframe tbody tr th {\n",
       "        vertical-align: top;\n",
       "    }\n",
       "\n",
       "    .dataframe thead th {\n",
       "        text-align: right;\n",
       "    }\n",
       "</style>\n",
       "<table border=\"1\" class=\"dataframe\">\n",
       "  <thead>\n",
       "    <tr style=\"text-align: right;\">\n",
       "      <th></th>\n",
       "      <th>date</th>\n",
       "      <th>exdate</th>\n",
       "      <th>strike_price</th>\n",
       "      <th>best_bid</th>\n",
       "      <th>best_offer</th>\n",
       "      <th>volume</th>\n",
       "      <th>open_interest</th>\n",
       "      <th>impl_volatility</th>\n",
       "      <th>delta</th>\n",
       "      <th>gamma</th>\n",
       "      <th>vega</th>\n",
       "      <th>theta</th>\n",
       "      <th>contract_size</th>\n",
       "    </tr>\n",
       "  </thead>\n",
       "  <tbody>\n",
       "    <tr>\n",
       "      <th>count</th>\n",
       "      <td>1166644</td>\n",
       "      <td>1166644</td>\n",
       "      <td>1.166644e+06</td>\n",
       "      <td>1.166644e+06</td>\n",
       "      <td>1.166644e+06</td>\n",
       "      <td>1.166644e+06</td>\n",
       "      <td>1.166644e+06</td>\n",
       "      <td>1.166644e+06</td>\n",
       "      <td>1.166644e+06</td>\n",
       "      <td>1.166644e+06</td>\n",
       "      <td>1.166644e+06</td>\n",
       "      <td>1.166644e+06</td>\n",
       "      <td>1166644.0</td>\n",
       "    </tr>\n",
       "    <tr>\n",
       "      <th>mean</th>\n",
       "      <td>2022-08-19 11:53:22.749768448</td>\n",
       "      <td>2023-02-01 21:27:38.430850816</td>\n",
       "      <td>1.590629e+05</td>\n",
       "      <td>2.972666e+01</td>\n",
       "      <td>3.089889e+01</td>\n",
       "      <td>2.282184e+02</td>\n",
       "      <td>1.395106e+03</td>\n",
       "      <td>6.532276e-01</td>\n",
       "      <td>-1.093080e-02</td>\n",
       "      <td>9.271234e-03</td>\n",
       "      <td>1.646618e+01</td>\n",
       "      <td>-1.884714e+01</td>\n",
       "      <td>100.0</td>\n",
       "    </tr>\n",
       "    <tr>\n",
       "      <th>min</th>\n",
       "      <td>2022-02-28 00:00:00</td>\n",
       "      <td>2022-03-04 00:00:00</td>\n",
       "      <td>5.000000e+03</td>\n",
       "      <td>0.000000e+00</td>\n",
       "      <td>1.000000e-02</td>\n",
       "      <td>0.000000e+00</td>\n",
       "      <td>0.000000e+00</td>\n",
       "      <td>8.018000e-02</td>\n",
       "      <td>-9.999280e-01</td>\n",
       "      <td>0.000000e+00</td>\n",
       "      <td>5.160000e-04</td>\n",
       "      <td>-1.014567e+03</td>\n",
       "      <td>100.0</td>\n",
       "    </tr>\n",
       "    <tr>\n",
       "      <th>25%</th>\n",
       "      <td>2022-05-18 00:00:00</td>\n",
       "      <td>2022-08-26 00:00:00</td>\n",
       "      <td>8.300000e+04</td>\n",
       "      <td>6.300000e-01</td>\n",
       "      <td>8.000000e-01</td>\n",
       "      <td>0.000000e+00</td>\n",
       "      <td>2.000000e+01</td>\n",
       "      <td>4.814620e-01</td>\n",
       "      <td>-4.304412e-01</td>\n",
       "      <td>1.695000e-03</td>\n",
       "      <td>2.109112e+00</td>\n",
       "      <td>-2.116794e+01</td>\n",
       "      <td>100.0</td>\n",
       "    </tr>\n",
       "    <tr>\n",
       "      <th>50%</th>\n",
       "      <td>2022-08-15 00:00:00</td>\n",
       "      <td>2022-12-30 00:00:00</td>\n",
       "      <td>1.250000e+05</td>\n",
       "      <td>7.850000e+00</td>\n",
       "      <td>8.400000e+00</td>\n",
       "      <td>2.000000e+00</td>\n",
       "      <td>2.430000e+02</td>\n",
       "      <td>5.562720e-01</td>\n",
       "      <td>1.490000e-03</td>\n",
       "      <td>4.514000e-03</td>\n",
       "      <td>7.883527e+00</td>\n",
       "      <td>-9.868769e+00</td>\n",
       "      <td>100.0</td>\n",
       "    </tr>\n",
       "    <tr>\n",
       "      <th>75%</th>\n",
       "      <td>2022-11-16 00:00:00</td>\n",
       "      <td>2023-04-21 00:00:00</td>\n",
       "      <td>2.050000e+05</td>\n",
       "      <td>3.505000e+01</td>\n",
       "      <td>3.680000e+01</td>\n",
       "      <td>4.100000e+01</td>\n",
       "      <td>1.183000e+03</td>\n",
       "      <td>6.954575e-01</td>\n",
       "      <td>3.862302e-01</td>\n",
       "      <td>1.091800e-02</td>\n",
       "      <td>2.219063e+01</td>\n",
       "      <td>-3.972248e+00</td>\n",
       "      <td>100.0</td>\n",
       "    </tr>\n",
       "    <tr>\n",
       "      <th>max</th>\n",
       "      <td>2023-02-28 00:00:00</td>\n",
       "      <td>2025-06-20 00:00:00</td>\n",
       "      <td>6.000000e+05</td>\n",
       "      <td>4.825000e+02</td>\n",
       "      <td>4.865500e+02</td>\n",
       "      <td>1.764690e+05</td>\n",
       "      <td>9.757500e+04</td>\n",
       "      <td>2.999406e+00</td>\n",
       "      <td>9.999960e-01</td>\n",
       "      <td>3.568210e-01</td>\n",
       "      <td>1.536658e+02</td>\n",
       "      <td>8.139670e+00</td>\n",
       "      <td>100.0</td>\n",
       "    </tr>\n",
       "    <tr>\n",
       "      <th>std</th>\n",
       "      <td>NaN</td>\n",
       "      <td>NaN</td>\n",
       "      <td>1.073532e+05</td>\n",
       "      <td>5.161338e+01</td>\n",
       "      <td>5.285049e+01</td>\n",
       "      <td>1.626573e+03</td>\n",
       "      <td>3.339289e+03</td>\n",
       "      <td>3.339506e-01</td>\n",
       "      <td>5.886337e-01</td>\n",
       "      <td>1.365108e-02</td>\n",
       "      <td>2.148920e+01</td>\n",
       "      <td>3.203529e+01</td>\n",
       "      <td>0.0</td>\n",
       "    </tr>\n",
       "  </tbody>\n",
       "</table>\n",
       "</div>"
      ],
      "text/plain": [
       "                                date                         exdate  \\\n",
       "count                        1166644                        1166644   \n",
       "mean   2022-08-19 11:53:22.749768448  2023-02-01 21:27:38.430850816   \n",
       "min              2022-02-28 00:00:00            2022-03-04 00:00:00   \n",
       "25%              2022-05-18 00:00:00            2022-08-26 00:00:00   \n",
       "50%              2022-08-15 00:00:00            2022-12-30 00:00:00   \n",
       "75%              2022-11-16 00:00:00            2023-04-21 00:00:00   \n",
       "max              2023-02-28 00:00:00            2025-06-20 00:00:00   \n",
       "std                              NaN                            NaN   \n",
       "\n",
       "       strike_price      best_bid    best_offer        volume  open_interest  \\\n",
       "count  1.166644e+06  1.166644e+06  1.166644e+06  1.166644e+06   1.166644e+06   \n",
       "mean   1.590629e+05  2.972666e+01  3.089889e+01  2.282184e+02   1.395106e+03   \n",
       "min    5.000000e+03  0.000000e+00  1.000000e-02  0.000000e+00   0.000000e+00   \n",
       "25%    8.300000e+04  6.300000e-01  8.000000e-01  0.000000e+00   2.000000e+01   \n",
       "50%    1.250000e+05  7.850000e+00  8.400000e+00  2.000000e+00   2.430000e+02   \n",
       "75%    2.050000e+05  3.505000e+01  3.680000e+01  4.100000e+01   1.183000e+03   \n",
       "max    6.000000e+05  4.825000e+02  4.865500e+02  1.764690e+05   9.757500e+04   \n",
       "std    1.073532e+05  5.161338e+01  5.285049e+01  1.626573e+03   3.339289e+03   \n",
       "\n",
       "       impl_volatility         delta         gamma          vega  \\\n",
       "count     1.166644e+06  1.166644e+06  1.166644e+06  1.166644e+06   \n",
       "mean      6.532276e-01 -1.093080e-02  9.271234e-03  1.646618e+01   \n",
       "min       8.018000e-02 -9.999280e-01  0.000000e+00  5.160000e-04   \n",
       "25%       4.814620e-01 -4.304412e-01  1.695000e-03  2.109112e+00   \n",
       "50%       5.562720e-01  1.490000e-03  4.514000e-03  7.883527e+00   \n",
       "75%       6.954575e-01  3.862302e-01  1.091800e-02  2.219063e+01   \n",
       "max       2.999406e+00  9.999960e-01  3.568210e-01  1.536658e+02   \n",
       "std       3.339506e-01  5.886337e-01  1.365108e-02  2.148920e+01   \n",
       "\n",
       "              theta  contract_size  \n",
       "count  1.166644e+06      1166644.0  \n",
       "mean  -1.884714e+01          100.0  \n",
       "min   -1.014567e+03          100.0  \n",
       "25%   -2.116794e+01          100.0  \n",
       "50%   -9.868769e+00          100.0  \n",
       "75%   -3.972248e+00          100.0  \n",
       "max    8.139670e+00          100.0  \n",
       "std    3.203529e+01            0.0  "
      ]
     },
     "execution_count": 74,
     "metadata": {},
     "output_type": "execute_result"
    }
   ],
   "source": [
    "options_data.describe()"
   ]
  },
  {
   "cell_type": "code",
   "execution_count": 75,
   "metadata": {},
   "outputs": [
    {
     "data": {
      "text/html": [
       "<div>\n",
       "<style scoped>\n",
       "    .dataframe tbody tr th:only-of-type {\n",
       "        vertical-align: middle;\n",
       "    }\n",
       "\n",
       "    .dataframe tbody tr th {\n",
       "        vertical-align: top;\n",
       "    }\n",
       "\n",
       "    .dataframe thead th {\n",
       "        text-align: right;\n",
       "    }\n",
       "</style>\n",
       "<table border=\"1\" class=\"dataframe\">\n",
       "  <thead>\n",
       "    <tr style=\"text-align: right;\">\n",
       "      <th></th>\n",
       "      <th>date</th>\n",
       "      <th>exdate</th>\n",
       "      <th>cp_flag</th>\n",
       "      <th>strike_price</th>\n",
       "      <th>best_bid</th>\n",
       "      <th>best_offer</th>\n",
       "      <th>volume</th>\n",
       "      <th>open_interest</th>\n",
       "      <th>impl_volatility</th>\n",
       "      <th>delta</th>\n",
       "      <th>gamma</th>\n",
       "      <th>vega</th>\n",
       "      <th>theta</th>\n",
       "      <th>contract_size</th>\n",
       "      <th>ticker</th>\n",
       "    </tr>\n",
       "  </thead>\n",
       "  <tbody>\n",
       "    <tr>\n",
       "      <th>0</th>\n",
       "      <td>2022-02-28</td>\n",
       "      <td>2022-03-04</td>\n",
       "      <td>P</td>\n",
       "      <td>143000</td>\n",
       "      <td>18.30</td>\n",
       "      <td>21.70</td>\n",
       "      <td>1</td>\n",
       "      <td>43</td>\n",
       "      <td>0.919996</td>\n",
       "      <td>-0.931618</td>\n",
       "      <td>0.011129</td>\n",
       "      <td>1.700479</td>\n",
       "      <td>-71.04977</td>\n",
       "      <td>100</td>\n",
       "      <td>AMD</td>\n",
       "    </tr>\n",
       "    <tr>\n",
       "      <th>1</th>\n",
       "      <td>2022-02-28</td>\n",
       "      <td>2022-03-04</td>\n",
       "      <td>P</td>\n",
       "      <td>144000</td>\n",
       "      <td>19.65</td>\n",
       "      <td>22.55</td>\n",
       "      <td>0</td>\n",
       "      <td>8</td>\n",
       "      <td>1.009123</td>\n",
       "      <td>-0.921234</td>\n",
       "      <td>0.011298</td>\n",
       "      <td>1.898582</td>\n",
       "      <td>-86.91409</td>\n",
       "      <td>100</td>\n",
       "      <td>AMD</td>\n",
       "    </tr>\n",
       "    <tr>\n",
       "      <th>2</th>\n",
       "      <td>2022-02-28</td>\n",
       "      <td>2022-03-04</td>\n",
       "      <td>P</td>\n",
       "      <td>145000</td>\n",
       "      <td>20.45</td>\n",
       "      <td>23.70</td>\n",
       "      <td>3</td>\n",
       "      <td>154</td>\n",
       "      <td>1.029200</td>\n",
       "      <td>-0.926204</td>\n",
       "      <td>0.010543</td>\n",
       "      <td>1.805097</td>\n",
       "      <td>-84.34332</td>\n",
       "      <td>100</td>\n",
       "      <td>AMD</td>\n",
       "    </tr>\n",
       "    <tr>\n",
       "      <th>3</th>\n",
       "      <td>2022-02-28</td>\n",
       "      <td>2022-03-04</td>\n",
       "      <td>P</td>\n",
       "      <td>146000</td>\n",
       "      <td>21.30</td>\n",
       "      <td>24.75</td>\n",
       "      <td>10</td>\n",
       "      <td>72</td>\n",
       "      <td>1.032943</td>\n",
       "      <td>-0.933979</td>\n",
       "      <td>0.009645</td>\n",
       "      <td>1.653858</td>\n",
       "      <td>-77.66636</td>\n",
       "      <td>100</td>\n",
       "      <td>AMD</td>\n",
       "    </tr>\n",
       "    <tr>\n",
       "      <th>4</th>\n",
       "      <td>2022-02-28</td>\n",
       "      <td>2022-03-04</td>\n",
       "      <td>P</td>\n",
       "      <td>147000</td>\n",
       "      <td>23.50</td>\n",
       "      <td>25.75</td>\n",
       "      <td>6</td>\n",
       "      <td>86</td>\n",
       "      <td>1.347105</td>\n",
       "      <td>-0.879729</td>\n",
       "      <td>0.011528</td>\n",
       "      <td>2.587893</td>\n",
       "      <td>-158.53520</td>\n",
       "      <td>100</td>\n",
       "      <td>AMD</td>\n",
       "    </tr>\n",
       "  </tbody>\n",
       "</table>\n",
       "</div>"
      ],
      "text/plain": [
       "        date     exdate cp_flag  strike_price  best_bid  best_offer  volume  \\\n",
       "0 2022-02-28 2022-03-04       P        143000     18.30       21.70       1   \n",
       "1 2022-02-28 2022-03-04       P        144000     19.65       22.55       0   \n",
       "2 2022-02-28 2022-03-04       P        145000     20.45       23.70       3   \n",
       "3 2022-02-28 2022-03-04       P        146000     21.30       24.75      10   \n",
       "4 2022-02-28 2022-03-04       P        147000     23.50       25.75       6   \n",
       "\n",
       "   open_interest  impl_volatility     delta     gamma      vega      theta  \\\n",
       "0             43         0.919996 -0.931618  0.011129  1.700479  -71.04977   \n",
       "1              8         1.009123 -0.921234  0.011298  1.898582  -86.91409   \n",
       "2            154         1.029200 -0.926204  0.010543  1.805097  -84.34332   \n",
       "3             72         1.032943 -0.933979  0.009645  1.653858  -77.66636   \n",
       "4             86         1.347105 -0.879729  0.011528  2.587893 -158.53520   \n",
       "\n",
       "   contract_size ticker  \n",
       "0            100    AMD  \n",
       "1            100    AMD  \n",
       "2            100    AMD  \n",
       "3            100    AMD  \n",
       "4            100    AMD  "
      ]
     },
     "execution_count": 75,
     "metadata": {},
     "output_type": "execute_result"
    }
   ],
   "source": [
    "options_data.head()"
   ]
  },
  {
   "cell_type": "code",
   "execution_count": 76,
   "metadata": {},
   "outputs": [
    {
     "name": "stdout",
     "output_type": "stream",
     "text": [
      "<class 'pandas.core.frame.DataFrame'>\n",
      "Index: 1166644 entries, 0 to 1386117\n",
      "Data columns (total 15 columns):\n",
      " #   Column           Non-Null Count    Dtype         \n",
      "---  ------           --------------    -----         \n",
      " 0   date             1166644 non-null  datetime64[ns]\n",
      " 1   exdate           1166644 non-null  datetime64[ns]\n",
      " 2   cp_flag          1166644 non-null  object        \n",
      " 3   strike_price     1166644 non-null  int64         \n",
      " 4   best_bid         1166644 non-null  float64       \n",
      " 5   best_offer       1166644 non-null  float64       \n",
      " 6   volume           1166644 non-null  int64         \n",
      " 7   open_interest    1166644 non-null  int64         \n",
      " 8   impl_volatility  1166644 non-null  float64       \n",
      " 9   delta            1166644 non-null  float64       \n",
      " 10  gamma            1166644 non-null  float64       \n",
      " 11  vega             1166644 non-null  float64       \n",
      " 12  theta            1166644 non-null  float64       \n",
      " 13  contract_size    1166644 non-null  int64         \n",
      " 14  ticker           1166644 non-null  object        \n",
      "dtypes: datetime64[ns](2), float64(7), int64(4), object(2)\n",
      "memory usage: 142.4+ MB\n"
     ]
    }
   ],
   "source": [
    "options_data.info()"
   ]
  },
  {
   "cell_type": "code",
   "execution_count": 77,
   "metadata": {},
   "outputs": [],
   "source": [
    "# # Save cleaned option data\n",
    "# path_file = '../data/option_data_2010_2024_cleaned.csv'\n",
    "# options_data.to_csv(path_file, index=False)\n",
    "# # options_data = pd.read_csv('../data/option_data_2010_2024.csv')\n"
   ]
  },
  {
   "cell_type": "markdown",
   "metadata": {},
   "source": [
    "### Download the corresponding stock price"
   ]
  },
  {
   "cell_type": "code",
   "execution_count": 78,
   "metadata": {},
   "outputs": [
    {
     "name": "stderr",
     "output_type": "stream",
     "text": [
      "[*********************100%%**********************]  1 of 1 completed\n",
      "[*********************100%%**********************]  1 of 1 completed\n",
      "[*********************100%%**********************]  1 of 1 completed\n",
      "[*********************100%%**********************]  1 of 1 completed"
     ]
    },
    {
     "name": "stdout",
     "output_type": "stream",
     "text": [
      "['AMD' 'NVDA' 'TSM' 'SMCI']\n",
      "Downloading data of AMD from start_date: 2022-02-28 00:00:00 to end_date:2023-03-01\n",
      "Downloading data of NVDA from start_date: 2022-02-28 00:00:00 to end_date:2023-03-01\n",
      "Downloading data of TSM from start_date: 2022-02-28 00:00:00 to end_date:2023-03-01\n",
      "Downloading data of SMCI from start_date: 2022-02-28 00:00:00 to end_date:2023-03-01\n"
     ]
    },
    {
     "name": "stderr",
     "output_type": "stream",
     "text": [
      "\n"
     ]
    }
   ],
   "source": [
    "tickers = options_data['ticker'].unique()\n",
    "\n",
    "print(tickers)\n",
    "\n",
    "# Download historical stock data of the correspoonding ticker\n",
    "stock_data = {}\n",
    "for ticker in tickers:\n",
    "    start_date = options_data['date'].min()\n",
    "    end_date = (pd.to_datetime(options_data['date'].max()) + pd.Timedelta(days=1)).date()\n",
    "\n",
    "    print(f'Downloading data of {ticker} from start_date: {start_date} to end_date:{end_date}')\n",
    "    stock_data[ticker] = yf.download(ticker, start=start_date, end=end_date)\n",
    "    stock_data[ticker]['ticker'] = ticker  # Add a new column 'Ticker' with ticker symbol\n",
    "    # print(stock_data[ticker].info())\n"
   ]
  },
  {
   "cell_type": "code",
   "execution_count": 79,
   "metadata": {},
   "outputs": [
    {
     "name": "stdout",
     "output_type": "stream",
     "text": [
      "                  Open        High         Low       Close   Adj Close  \\\n",
      "Date                                                                     \n",
      "2022-02-28  120.309998  124.610001  119.199997  123.339996  123.339996   \n",
      "2022-03-01  122.330002  122.430000  112.800003  113.830002  113.830002   \n",
      "2022-03-02  115.470001  119.480003  113.309998  118.279999  118.279999   \n",
      "2022-03-03  118.129997  118.260002  111.050003  111.980003  111.980003   \n",
      "2022-03-04  112.000000  113.000000  106.809998  108.410004  108.410004   \n",
      "...                ...         ...         ...         ...         ...   \n",
      "2023-02-22   76.930000   78.129997   75.919998   76.610001   76.610001   \n",
      "2023-02-23   80.629997   81.790001   77.970001   79.750000   79.750000   \n",
      "2023-02-24   77.750000   78.809998   76.940002   78.089996   78.089996   \n",
      "2023-02-27   79.639999   80.120003   78.529999   78.769997   78.769997   \n",
      "2023-02-28   77.870003   80.139999   77.419998   78.580002   78.580002   \n",
      "\n",
      "               Volume ticker  \n",
      "Date                          \n",
      "2022-02-28  124666100    AMD  \n",
      "2022-03-01  126552200    AMD  \n",
      "2022-03-02  118354500    AMD  \n",
      "2022-03-03  123916700    AMD  \n",
      "2022-03-04  100609400    AMD  \n",
      "...               ...    ...  \n",
      "2023-02-22   50286800    AMD  \n",
      "2023-02-23   76391300    AMD  \n",
      "2023-02-24   46700000    AMD  \n",
      "2023-02-27   45617300    AMD  \n",
      "2023-02-28   44220100    AMD  \n",
      "\n",
      "[252 rows x 7 columns]\n"
     ]
    }
   ],
   "source": [
    "print(stock_data[\"AMD\"])"
   ]
  },
  {
   "cell_type": "code",
   "execution_count": 80,
   "metadata": {},
   "outputs": [
    {
     "name": "stdout",
     "output_type": "stream",
     "text": [
      "<class 'pandas.core.frame.DataFrame'>\n",
      "DatetimeIndex: 1008 entries, 2022-02-28 to 2023-02-28\n",
      "Data columns (total 8 columns):\n",
      " #   Column     Non-Null Count  Dtype         \n",
      "---  ------     --------------  -----         \n",
      " 0   Open       1008 non-null   float64       \n",
      " 1   High       1008 non-null   float64       \n",
      " 2   Low        1008 non-null   float64       \n",
      " 3   Close      1008 non-null   float64       \n",
      " 4   Adj Close  1008 non-null   float64       \n",
      " 5   Volume     1008 non-null   int64         \n",
      " 6   ticker     1008 non-null   object        \n",
      " 7   date       1008 non-null   datetime64[ns]\n",
      "dtypes: datetime64[ns](1), float64(5), int64(1), object(1)\n",
      "memory usage: 70.9+ KB\n"
     ]
    }
   ],
   "source": [
    "# Combine all stock data into a single DataFrame\n",
    "merged_stock_data = pd.concat(stock_data.values())\n",
    "merged_stock_data['date'] = merged_stock_data.index\n",
    "merged_stock_data.info()\n"
   ]
  },
  {
   "cell_type": "code",
   "execution_count": 81,
   "metadata": {},
   "outputs": [
    {
     "name": "stdout",
     "output_type": "stream",
     "text": [
      "<class 'pandas.core.frame.DataFrame'>\n",
      "DatetimeIndex: 1008 entries, 2022-02-28 to 2023-02-28\n",
      "Data columns (total 8 columns):\n",
      " #   Column     Non-Null Count  Dtype         \n",
      "---  ------     --------------  -----         \n",
      " 0   Open       1008 non-null   float64       \n",
      " 1   High       1008 non-null   float64       \n",
      " 2   Low        1008 non-null   float64       \n",
      " 3   Close      1008 non-null   float64       \n",
      " 4   Adj Close  1008 non-null   float64       \n",
      " 5   Volume     1008 non-null   int64         \n",
      " 6   ticker     1008 non-null   object        \n",
      " 7   date       1008 non-null   datetime64[ns]\n",
      "dtypes: datetime64[ns](1), float64(5), int64(1), object(1)\n",
      "memory usage: 70.9+ KB\n"
     ]
    }
   ],
   "source": [
    "merged_stock_data.info()"
   ]
  },
  {
   "cell_type": "code",
   "execution_count": 82,
   "metadata": {},
   "outputs": [
    {
     "data": {
      "text/html": [
       "<div>\n",
       "<style scoped>\n",
       "    .dataframe tbody tr th:only-of-type {\n",
       "        vertical-align: middle;\n",
       "    }\n",
       "\n",
       "    .dataframe tbody tr th {\n",
       "        vertical-align: top;\n",
       "    }\n",
       "\n",
       "    .dataframe thead th {\n",
       "        text-align: right;\n",
       "    }\n",
       "</style>\n",
       "<table border=\"1\" class=\"dataframe\">\n",
       "  <thead>\n",
       "    <tr style=\"text-align: right;\">\n",
       "      <th></th>\n",
       "      <th>Open</th>\n",
       "      <th>High</th>\n",
       "      <th>Low</th>\n",
       "      <th>Close</th>\n",
       "      <th>Adj Close</th>\n",
       "      <th>Volume</th>\n",
       "      <th>ticker</th>\n",
       "      <th>date</th>\n",
       "    </tr>\n",
       "    <tr>\n",
       "      <th>Date</th>\n",
       "      <th></th>\n",
       "      <th></th>\n",
       "      <th></th>\n",
       "      <th></th>\n",
       "      <th></th>\n",
       "      <th></th>\n",
       "      <th></th>\n",
       "      <th></th>\n",
       "    </tr>\n",
       "  </thead>\n",
       "  <tbody>\n",
       "    <tr>\n",
       "      <th>2022-02-28</th>\n",
       "      <td>120.309998</td>\n",
       "      <td>124.610001</td>\n",
       "      <td>119.199997</td>\n",
       "      <td>123.339996</td>\n",
       "      <td>123.339996</td>\n",
       "      <td>124666100</td>\n",
       "      <td>AMD</td>\n",
       "      <td>2022-02-28</td>\n",
       "    </tr>\n",
       "    <tr>\n",
       "      <th>2022-03-01</th>\n",
       "      <td>122.330002</td>\n",
       "      <td>122.430000</td>\n",
       "      <td>112.800003</td>\n",
       "      <td>113.830002</td>\n",
       "      <td>113.830002</td>\n",
       "      <td>126552200</td>\n",
       "      <td>AMD</td>\n",
       "      <td>2022-03-01</td>\n",
       "    </tr>\n",
       "    <tr>\n",
       "      <th>2022-03-02</th>\n",
       "      <td>115.470001</td>\n",
       "      <td>119.480003</td>\n",
       "      <td>113.309998</td>\n",
       "      <td>118.279999</td>\n",
       "      <td>118.279999</td>\n",
       "      <td>118354500</td>\n",
       "      <td>AMD</td>\n",
       "      <td>2022-03-02</td>\n",
       "    </tr>\n",
       "    <tr>\n",
       "      <th>2022-03-03</th>\n",
       "      <td>118.129997</td>\n",
       "      <td>118.260002</td>\n",
       "      <td>111.050003</td>\n",
       "      <td>111.980003</td>\n",
       "      <td>111.980003</td>\n",
       "      <td>123916700</td>\n",
       "      <td>AMD</td>\n",
       "      <td>2022-03-03</td>\n",
       "    </tr>\n",
       "    <tr>\n",
       "      <th>2022-03-04</th>\n",
       "      <td>112.000000</td>\n",
       "      <td>113.000000</td>\n",
       "      <td>106.809998</td>\n",
       "      <td>108.410004</td>\n",
       "      <td>108.410004</td>\n",
       "      <td>100609400</td>\n",
       "      <td>AMD</td>\n",
       "      <td>2022-03-04</td>\n",
       "    </tr>\n",
       "  </tbody>\n",
       "</table>\n",
       "</div>"
      ],
      "text/plain": [
       "                  Open        High         Low       Close   Adj Close  \\\n",
       "Date                                                                     \n",
       "2022-02-28  120.309998  124.610001  119.199997  123.339996  123.339996   \n",
       "2022-03-01  122.330002  122.430000  112.800003  113.830002  113.830002   \n",
       "2022-03-02  115.470001  119.480003  113.309998  118.279999  118.279999   \n",
       "2022-03-03  118.129997  118.260002  111.050003  111.980003  111.980003   \n",
       "2022-03-04  112.000000  113.000000  106.809998  108.410004  108.410004   \n",
       "\n",
       "               Volume ticker       date  \n",
       "Date                                     \n",
       "2022-02-28  124666100    AMD 2022-02-28  \n",
       "2022-03-01  126552200    AMD 2022-03-01  \n",
       "2022-03-02  118354500    AMD 2022-03-02  \n",
       "2022-03-03  123916700    AMD 2022-03-03  \n",
       "2022-03-04  100609400    AMD 2022-03-04  "
      ]
     },
     "execution_count": 82,
     "metadata": {},
     "output_type": "execute_result"
    }
   ],
   "source": [
    "merged_stock_data.head()"
   ]
  },
  {
   "cell_type": "code",
   "execution_count": 83,
   "metadata": {},
   "outputs": [
    {
     "data": {
      "text/plain": [
       "array(['AMD', 'NVDA', 'TSM', 'SMCI'], dtype=object)"
      ]
     },
     "execution_count": 83,
     "metadata": {},
     "output_type": "execute_result"
    }
   ],
   "source": [
    "merged_stock_data['ticker'].unique()"
   ]
  },
  {
   "cell_type": "code",
   "execution_count": 84,
   "metadata": {},
   "outputs": [
    {
     "data": {
      "text/html": [
       "<div>\n",
       "<style scoped>\n",
       "    .dataframe tbody tr th:only-of-type {\n",
       "        vertical-align: middle;\n",
       "    }\n",
       "\n",
       "    .dataframe tbody tr th {\n",
       "        vertical-align: top;\n",
       "    }\n",
       "\n",
       "    .dataframe thead th {\n",
       "        text-align: right;\n",
       "    }\n",
       "</style>\n",
       "<table border=\"1\" class=\"dataframe\">\n",
       "  <thead>\n",
       "    <tr style=\"text-align: right;\">\n",
       "      <th></th>\n",
       "      <th>Open</th>\n",
       "      <th>High</th>\n",
       "      <th>Low</th>\n",
       "      <th>Close</th>\n",
       "      <th>Adj Close</th>\n",
       "      <th>Volume</th>\n",
       "      <th>ticker</th>\n",
       "      <th>date</th>\n",
       "    </tr>\n",
       "    <tr>\n",
       "      <th>Date</th>\n",
       "      <th></th>\n",
       "      <th></th>\n",
       "      <th></th>\n",
       "      <th></th>\n",
       "      <th></th>\n",
       "      <th></th>\n",
       "      <th></th>\n",
       "      <th></th>\n",
       "    </tr>\n",
       "  </thead>\n",
       "  <tbody>\n",
       "    <tr>\n",
       "      <th>2022-02-28</th>\n",
       "      <td>120.309998</td>\n",
       "      <td>124.610001</td>\n",
       "      <td>119.199997</td>\n",
       "      <td>123.339996</td>\n",
       "      <td>123.339996</td>\n",
       "      <td>124666100</td>\n",
       "      <td>AMD</td>\n",
       "      <td>2022-02-28</td>\n",
       "    </tr>\n",
       "    <tr>\n",
       "      <th>2022-03-01</th>\n",
       "      <td>122.330002</td>\n",
       "      <td>122.430000</td>\n",
       "      <td>112.800003</td>\n",
       "      <td>113.830002</td>\n",
       "      <td>113.830002</td>\n",
       "      <td>126552200</td>\n",
       "      <td>AMD</td>\n",
       "      <td>2022-03-01</td>\n",
       "    </tr>\n",
       "    <tr>\n",
       "      <th>2022-03-02</th>\n",
       "      <td>115.470001</td>\n",
       "      <td>119.480003</td>\n",
       "      <td>113.309998</td>\n",
       "      <td>118.279999</td>\n",
       "      <td>118.279999</td>\n",
       "      <td>118354500</td>\n",
       "      <td>AMD</td>\n",
       "      <td>2022-03-02</td>\n",
       "    </tr>\n",
       "    <tr>\n",
       "      <th>2022-03-03</th>\n",
       "      <td>118.129997</td>\n",
       "      <td>118.260002</td>\n",
       "      <td>111.050003</td>\n",
       "      <td>111.980003</td>\n",
       "      <td>111.980003</td>\n",
       "      <td>123916700</td>\n",
       "      <td>AMD</td>\n",
       "      <td>2022-03-03</td>\n",
       "    </tr>\n",
       "    <tr>\n",
       "      <th>2022-03-04</th>\n",
       "      <td>112.000000</td>\n",
       "      <td>113.000000</td>\n",
       "      <td>106.809998</td>\n",
       "      <td>108.410004</td>\n",
       "      <td>108.410004</td>\n",
       "      <td>100609400</td>\n",
       "      <td>AMD</td>\n",
       "      <td>2022-03-04</td>\n",
       "    </tr>\n",
       "  </tbody>\n",
       "</table>\n",
       "</div>"
      ],
      "text/plain": [
       "                  Open        High         Low       Close   Adj Close  \\\n",
       "Date                                                                     \n",
       "2022-02-28  120.309998  124.610001  119.199997  123.339996  123.339996   \n",
       "2022-03-01  122.330002  122.430000  112.800003  113.830002  113.830002   \n",
       "2022-03-02  115.470001  119.480003  113.309998  118.279999  118.279999   \n",
       "2022-03-03  118.129997  118.260002  111.050003  111.980003  111.980003   \n",
       "2022-03-04  112.000000  113.000000  106.809998  108.410004  108.410004   \n",
       "\n",
       "               Volume ticker       date  \n",
       "Date                                     \n",
       "2022-02-28  124666100    AMD 2022-02-28  \n",
       "2022-03-01  126552200    AMD 2022-03-01  \n",
       "2022-03-02  118354500    AMD 2022-03-02  \n",
       "2022-03-03  123916700    AMD 2022-03-03  \n",
       "2022-03-04  100609400    AMD 2022-03-04  "
      ]
     },
     "execution_count": 84,
     "metadata": {},
     "output_type": "execute_result"
    }
   ],
   "source": [
    "merged_stock_data.head()"
   ]
  },
  {
   "cell_type": "code",
   "execution_count": 85,
   "metadata": {},
   "outputs": [
    {
     "data": {
      "text/html": [
       "<div>\n",
       "<style scoped>\n",
       "    .dataframe tbody tr th:only-of-type {\n",
       "        vertical-align: middle;\n",
       "    }\n",
       "\n",
       "    .dataframe tbody tr th {\n",
       "        vertical-align: top;\n",
       "    }\n",
       "\n",
       "    .dataframe thead th {\n",
       "        text-align: right;\n",
       "    }\n",
       "</style>\n",
       "<table border=\"1\" class=\"dataframe\">\n",
       "  <thead>\n",
       "    <tr style=\"text-align: right;\">\n",
       "      <th></th>\n",
       "      <th>Open</th>\n",
       "      <th>High</th>\n",
       "      <th>Low</th>\n",
       "      <th>Close</th>\n",
       "      <th>Adj Close</th>\n",
       "      <th>Volume</th>\n",
       "      <th>ticker</th>\n",
       "      <th>date</th>\n",
       "    </tr>\n",
       "    <tr>\n",
       "      <th>Date</th>\n",
       "      <th></th>\n",
       "      <th></th>\n",
       "      <th></th>\n",
       "      <th></th>\n",
       "      <th></th>\n",
       "      <th></th>\n",
       "      <th></th>\n",
       "      <th></th>\n",
       "    </tr>\n",
       "  </thead>\n",
       "  <tbody>\n",
       "    <tr>\n",
       "      <th>2023-02-22</th>\n",
       "      <td>87.589996</td>\n",
       "      <td>88.720001</td>\n",
       "      <td>85.610001</td>\n",
       "      <td>86.709999</td>\n",
       "      <td>86.709999</td>\n",
       "      <td>871000</td>\n",
       "      <td>SMCI</td>\n",
       "      <td>2023-02-22</td>\n",
       "    </tr>\n",
       "    <tr>\n",
       "      <th>2023-02-23</th>\n",
       "      <td>89.330002</td>\n",
       "      <td>94.949997</td>\n",
       "      <td>89.300003</td>\n",
       "      <td>94.269997</td>\n",
       "      <td>94.269997</td>\n",
       "      <td>1832800</td>\n",
       "      <td>SMCI</td>\n",
       "      <td>2023-02-23</td>\n",
       "    </tr>\n",
       "    <tr>\n",
       "      <th>2023-02-24</th>\n",
       "      <td>92.480003</td>\n",
       "      <td>98.360001</td>\n",
       "      <td>91.959999</td>\n",
       "      <td>98.160004</td>\n",
       "      <td>98.160004</td>\n",
       "      <td>1945100</td>\n",
       "      <td>SMCI</td>\n",
       "      <td>2023-02-24</td>\n",
       "    </tr>\n",
       "    <tr>\n",
       "      <th>2023-02-27</th>\n",
       "      <td>98.860001</td>\n",
       "      <td>103.980003</td>\n",
       "      <td>98.699997</td>\n",
       "      <td>101.129997</td>\n",
       "      <td>101.129997</td>\n",
       "      <td>1891100</td>\n",
       "      <td>SMCI</td>\n",
       "      <td>2023-02-27</td>\n",
       "    </tr>\n",
       "    <tr>\n",
       "      <th>2023-02-28</th>\n",
       "      <td>100.919998</td>\n",
       "      <td>103.000000</td>\n",
       "      <td>97.860001</td>\n",
       "      <td>97.970001</td>\n",
       "      <td>97.970001</td>\n",
       "      <td>1741600</td>\n",
       "      <td>SMCI</td>\n",
       "      <td>2023-02-28</td>\n",
       "    </tr>\n",
       "  </tbody>\n",
       "</table>\n",
       "</div>"
      ],
      "text/plain": [
       "                  Open        High        Low       Close   Adj Close  \\\n",
       "Date                                                                    \n",
       "2023-02-22   87.589996   88.720001  85.610001   86.709999   86.709999   \n",
       "2023-02-23   89.330002   94.949997  89.300003   94.269997   94.269997   \n",
       "2023-02-24   92.480003   98.360001  91.959999   98.160004   98.160004   \n",
       "2023-02-27   98.860001  103.980003  98.699997  101.129997  101.129997   \n",
       "2023-02-28  100.919998  103.000000  97.860001   97.970001   97.970001   \n",
       "\n",
       "             Volume ticker       date  \n",
       "Date                                   \n",
       "2023-02-22   871000   SMCI 2023-02-22  \n",
       "2023-02-23  1832800   SMCI 2023-02-23  \n",
       "2023-02-24  1945100   SMCI 2023-02-24  \n",
       "2023-02-27  1891100   SMCI 2023-02-27  \n",
       "2023-02-28  1741600   SMCI 2023-02-28  "
      ]
     },
     "execution_count": 85,
     "metadata": {},
     "output_type": "execute_result"
    }
   ],
   "source": [
    "merged_stock_data.tail()"
   ]
  },
  {
   "cell_type": "code",
   "execution_count": 86,
   "metadata": {},
   "outputs": [
    {
     "data": {
      "text/plain": [
       "array(['AMD', 'NVDA', 'TSM', 'SMCI'], dtype=object)"
      ]
     },
     "execution_count": 86,
     "metadata": {},
     "output_type": "execute_result"
    }
   ],
   "source": [
    "merged_stock_data['ticker'].unique()"
   ]
  },
  {
   "cell_type": "code",
   "execution_count": 87,
   "metadata": {},
   "outputs": [
    {
     "data": {
      "text/plain": [
       "array(['AMD', 'NVDA', 'TSM', 'SMCI'], dtype=object)"
      ]
     },
     "execution_count": 87,
     "metadata": {},
     "output_type": "execute_result"
    }
   ],
   "source": [
    "options_data['ticker'].unique()"
   ]
  },
  {
   "cell_type": "markdown",
   "metadata": {},
   "source": [
    "### Combine options data and stock data"
   ]
  },
  {
   "cell_type": "code",
   "execution_count": 107,
   "metadata": {},
   "outputs": [
    {
     "name": "stdout",
     "output_type": "stream",
     "text": [
      "              date     exdate cp_flag  strike_price  best_bid  best_offer  \\\n",
      "0       2022-02-28 2022-03-04       P        143000     18.30       21.70   \n",
      "1       2022-02-28 2022-03-04       P        144000     19.65       22.55   \n",
      "2       2022-02-28 2022-03-04       P        145000     20.45       23.70   \n",
      "3       2022-02-28 2022-03-04       P        146000     21.30       24.75   \n",
      "4       2022-02-28 2022-03-04       P        147000     23.50       25.75   \n",
      "...            ...        ...     ...           ...       ...         ...   \n",
      "1166639 2023-02-28 2023-12-15       P         75000      8.10        9.10   \n",
      "1166640 2023-02-28 2023-12-15       P         80000      9.80       10.90   \n",
      "1166641 2023-02-28 2023-12-15       P         85000     11.80       12.60   \n",
      "1166642 2023-02-28 2023-12-15       P         90000     13.90       14.60   \n",
      "1166643 2023-02-28 2023-12-15       P         95000     16.30       16.80   \n",
      "\n",
      "         volume  open_interest  impl_volatility     delta     gamma  \\\n",
      "0             1             43         0.919996 -0.931618  0.011129   \n",
      "1             0              8         1.009123 -0.921234  0.011298   \n",
      "2             3            154         1.029200 -0.926204  0.010543   \n",
      "3            10             72         1.032943 -0.933979  0.009645   \n",
      "4             6             86         1.347105 -0.879729  0.011528   \n",
      "...         ...            ...              ...       ...       ...   \n",
      "1166639       0             24         0.629463 -0.208292  0.005324   \n",
      "1166640       1             48         0.618646 -0.242801  0.005933   \n",
      "1166641       0             10         0.605194 -0.279102  0.006550   \n",
      "1166642     101             27         0.592809 -0.317389  0.007135   \n",
      "1166643     100              0         0.582820 -0.357158  0.007655   \n",
      "\n",
      "              vega       theta  contract_size ticker        Open        High  \\\n",
      "0         1.700479  -71.049770            100    AMD  120.309998  124.610001   \n",
      "1         1.898582  -86.914090            100    AMD  120.309998  124.610001   \n",
      "2         1.805097  -84.343320            100    AMD  120.309998  124.610001   \n",
      "3         1.653858  -77.666360            100    AMD  120.309998  124.610001   \n",
      "4         2.587893 -158.535200            100    AMD  120.309998  124.610001   \n",
      "...            ...         ...            ...    ...         ...         ...   \n",
      "1166639  24.983320   -8.634860            100   SMCI  100.919998  103.000000   \n",
      "1166640  27.217950   -9.147098            100   SMCI  100.919998  103.000000   \n",
      "1166641  29.219490   -9.484104            100   SMCI  100.919998  103.000000   \n",
      "1166642  30.943880   -9.707250            100   SMCI  100.919998  103.000000   \n",
      "1166643  32.356990   -9.834691            100   SMCI  100.919998  103.000000   \n",
      "\n",
      "                Low       Close   Adj Close     Volume  \n",
      "0        119.199997  123.339996  123.339996  124666100  \n",
      "1        119.199997  123.339996  123.339996  124666100  \n",
      "2        119.199997  123.339996  123.339996  124666100  \n",
      "3        119.199997  123.339996  123.339996  124666100  \n",
      "4        119.199997  123.339996  123.339996  124666100  \n",
      "...             ...         ...         ...        ...  \n",
      "1166639   97.860001   97.970001   97.970001    1741600  \n",
      "1166640   97.860001   97.970001   97.970001    1741600  \n",
      "1166641   97.860001   97.970001   97.970001    1741600  \n",
      "1166642   97.860001   97.970001   97.970001    1741600  \n",
      "1166643   97.860001   97.970001   97.970001    1741600  \n",
      "\n",
      "[1166644 rows x 21 columns]\n"
     ]
    }
   ],
   "source": [
    "# Convert 'date' column to datetime type in options_data DataFrame\n",
    "options_data['date'] = pd.to_datetime(options_data['date'])\n",
    "\n",
    "# Convert 'date' column to datetime type in merged_stock_data DataFrame\n",
    "merged_stock_data['date'] = pd.to_datetime(merged_stock_data['date'])\n",
    "\n",
    "# Merge options data and stock data based on common columns (ticker and date)\n",
    "df = pd.merge(options_data, merged_stock_data, on=['ticker', 'date'], how='left')\n",
    "\n",
    "# Print or further process the combined data\n",
    "print(df)"
   ]
  },
  {
   "cell_type": "code",
   "execution_count": 89,
   "metadata": {},
   "outputs": [
    {
     "name": "stdout",
     "output_type": "stream",
     "text": [
      "<class 'pandas.core.frame.DataFrame'>\n",
      "RangeIndex: 1166644 entries, 0 to 1166643\n",
      "Data columns (total 21 columns):\n",
      " #   Column           Non-Null Count    Dtype         \n",
      "---  ------           --------------    -----         \n",
      " 0   date             1166644 non-null  datetime64[ns]\n",
      " 1   exdate           1166644 non-null  datetime64[ns]\n",
      " 2   cp_flag          1166644 non-null  object        \n",
      " 3   strike_price     1166644 non-null  int64         \n",
      " 4   best_bid         1166644 non-null  float64       \n",
      " 5   best_offer       1166644 non-null  float64       \n",
      " 6   volume           1166644 non-null  int64         \n",
      " 7   open_interest    1166644 non-null  int64         \n",
      " 8   impl_volatility  1166644 non-null  float64       \n",
      " 9   delta            1166644 non-null  float64       \n",
      " 10  gamma            1166644 non-null  float64       \n",
      " 11  vega             1166644 non-null  float64       \n",
      " 12  theta            1166644 non-null  float64       \n",
      " 13  contract_size    1166644 non-null  int64         \n",
      " 14  ticker           1166644 non-null  object        \n",
      " 15  Open             1166644 non-null  float64       \n",
      " 16  High             1166644 non-null  float64       \n",
      " 17  Low              1166644 non-null  float64       \n",
      " 18  Close            1166644 non-null  float64       \n",
      " 19  Adj Close        1166644 non-null  float64       \n",
      " 20  Volume           1166644 non-null  int64         \n",
      "dtypes: datetime64[ns](2), float64(12), int64(5), object(2)\n",
      "memory usage: 186.9+ MB\n"
     ]
    }
   ],
   "source": [
    "df.info()"
   ]
  },
  {
   "cell_type": "code",
   "execution_count": 90,
   "metadata": {},
   "outputs": [],
   "source": [
    "# # Save cleaned option data\n",
    "# path_file = '../data/option_stock_data_semiconductor_2010_2024.csv'\n",
    "# df.to_csv(path_file, index=False)\n",
    "# # options_data = pd.read_csv('../data/option_data_2010_2024.csv')\n"
   ]
  },
  {
   "cell_type": "markdown",
   "metadata": {},
   "source": [
    "#### Rename columns"
   ]
  },
  {
   "cell_type": "code",
   "execution_count": 108,
   "metadata": {},
   "outputs": [
    {
     "name": "stdout",
     "output_type": "stream",
     "text": [
      "<class 'pandas.core.frame.DataFrame'>\n",
      "RangeIndex: 1166644 entries, 0 to 1166643\n",
      "Data columns (total 21 columns):\n",
      " #   Column           Non-Null Count    Dtype         \n",
      "---  ------           --------------    -----         \n",
      " 0   date             1166644 non-null  datetime64[ns]\n",
      " 1   exdate           1166644 non-null  datetime64[ns]\n",
      " 2   cp_flag          1166644 non-null  object        \n",
      " 3   strike_price     1166644 non-null  int64         \n",
      " 4   best_bid         1166644 non-null  float64       \n",
      " 5   best_offer       1166644 non-null  float64       \n",
      " 6   opt_volume       1166644 non-null  int64         \n",
      " 7   open_interest    1166644 non-null  int64         \n",
      " 8   impl_volatility  1166644 non-null  float64       \n",
      " 9   delta            1166644 non-null  float64       \n",
      " 10  gamma            1166644 non-null  float64       \n",
      " 11  vega             1166644 non-null  float64       \n",
      " 12  theta            1166644 non-null  float64       \n",
      " 13  contract_size    1166644 non-null  int64         \n",
      " 14  ticker           1166644 non-null  object        \n",
      " 15  stock_open       1166644 non-null  float64       \n",
      " 16  stock_high       1166644 non-null  float64       \n",
      " 17  stock_low        1166644 non-null  float64       \n",
      " 18  stock_close      1166644 non-null  float64       \n",
      " 19  stock_adj_close  1166644 non-null  float64       \n",
      " 20  stock_volume     1166644 non-null  int64         \n",
      "dtypes: datetime64[ns](2), float64(12), int64(5), object(2)\n",
      "memory usage: 186.9+ MB\n"
     ]
    }
   ],
   "source": [
    "mapper={'volume':'opt_volume', \n",
    "        'Open':'stock_open', \n",
    "        'High':'stock_high', \n",
    "        'Low': 'stock_low', \n",
    "        'Close':'stock_close', \n",
    "        'Adj Close':'stock_adj_close', \n",
    "        'Volume':'stock_volume'}\n",
    "df=df.rename(columns=mapper)\n",
    "df.info()"
   ]
  },
  {
   "cell_type": "markdown",
   "metadata": {},
   "source": [
    "### Adding some other columns"
   ]
  },
  {
   "cell_type": "markdown",
   "metadata": {},
   "source": [
    "#### Compute date to experation"
   ]
  },
  {
   "cell_type": "code",
   "execution_count": 110,
   "metadata": {},
   "outputs": [],
   "source": [
    "# Step 3: Feature Engineering, compute days to expiration\n",
    "df['dte'] = (df['exdate'] - df['date']).dt.days"
   ]
  },
  {
   "cell_type": "code",
   "execution_count": 113,
   "metadata": {},
   "outputs": [
    {
     "name": "stdout",
     "output_type": "stream",
     "text": [
      "<class 'pandas.core.frame.DataFrame'>\n",
      "RangeIndex: 1166644 entries, 0 to 1166643\n",
      "Data columns (total 24 columns):\n",
      " #   Column           Non-Null Count    Dtype         \n",
      "---  ------           --------------    -----         \n",
      " 0   date             1166644 non-null  datetime64[ns]\n",
      " 1   exdate           1166644 non-null  datetime64[ns]\n",
      " 2   cp_flag          1166644 non-null  object        \n",
      " 3   strike_price     1166644 non-null  int64         \n",
      " 4   best_bid         1166644 non-null  float64       \n",
      " 5   best_offer       1166644 non-null  float64       \n",
      " 6   opt_volume       1166644 non-null  int64         \n",
      " 7   open_interest    1166644 non-null  int64         \n",
      " 8   impl_volatility  1166644 non-null  float64       \n",
      " 9   delta            1166644 non-null  float64       \n",
      " 10  gamma            1166644 non-null  float64       \n",
      " 11  vega             1166644 non-null  float64       \n",
      " 12  theta            1166644 non-null  float64       \n",
      " 13  contract_size    1166644 non-null  int64         \n",
      " 14  ticker           1166644 non-null  object        \n",
      " 15  stock_open       1166644 non-null  float64       \n",
      " 16  stock_high       1166644 non-null  float64       \n",
      " 17  stock_low        1166644 non-null  float64       \n",
      " 18  stock_close      1166644 non-null  float64       \n",
      " 19  stock_adj_close  1166644 non-null  float64       \n",
      " 20  stock_volume     1166644 non-null  int64         \n",
      " 21  dte              1166644 non-null  int64         \n",
      " 22  daily_returns    1166643 non-null  float64       \n",
      " 23  volatility       1166644 non-null  float64       \n",
      "dtypes: datetime64[ns](2), float64(14), int64(6), object(2)\n",
      "memory usage: 213.6+ MB\n"
     ]
    }
   ],
   "source": [
    "df.info()"
   ]
  },
  {
   "cell_type": "markdown",
   "metadata": {},
   "source": [
    "#### Compute volatility of stock"
   ]
  },
  {
   "cell_type": "code",
   "execution_count": 112,
   "metadata": {},
   "outputs": [],
   "source": [
    "# Calculate daily returns\n",
    "df['daily_returns'] = df['stock_adj_close'].pct_change()\n",
    "\n",
    "# Calculate volatility (standard deviation of daily returns)\n",
    "df['volatility'] = np.std(df['daily_returns']) * np.sqrt(252)  # Assuming 252 trading days in a year\n",
    "\n"
   ]
  },
  {
   "cell_type": "markdown",
   "metadata": {},
   "source": [
    "#### Risk Free rate\n"
   ]
  },
  {
   "cell_type": "code",
   "execution_count": 114,
   "metadata": {},
   "outputs": [],
   "source": [
    "# Drop rows with missing values in the specified columns\n",
    "df.dropna(inplace=True)\n"
   ]
  },
  {
   "cell_type": "code",
   "execution_count": 115,
   "metadata": {},
   "outputs": [
    {
     "name": "stdout",
     "output_type": "stream",
     "text": [
      "<class 'pandas.core.frame.DataFrame'>\n",
      "Index: 1166643 entries, 1 to 1166643\n",
      "Data columns (total 24 columns):\n",
      " #   Column           Non-Null Count    Dtype         \n",
      "---  ------           --------------    -----         \n",
      " 0   date             1166643 non-null  datetime64[ns]\n",
      " 1   exdate           1166643 non-null  datetime64[ns]\n",
      " 2   cp_flag          1166643 non-null  object        \n",
      " 3   strike_price     1166643 non-null  int64         \n",
      " 4   best_bid         1166643 non-null  float64       \n",
      " 5   best_offer       1166643 non-null  float64       \n",
      " 6   opt_volume       1166643 non-null  int64         \n",
      " 7   open_interest    1166643 non-null  int64         \n",
      " 8   impl_volatility  1166643 non-null  float64       \n",
      " 9   delta            1166643 non-null  float64       \n",
      " 10  gamma            1166643 non-null  float64       \n",
      " 11  vega             1166643 non-null  float64       \n",
      " 12  theta            1166643 non-null  float64       \n",
      " 13  contract_size    1166643 non-null  int64         \n",
      " 14  ticker           1166643 non-null  object        \n",
      " 15  stock_open       1166643 non-null  float64       \n",
      " 16  stock_high       1166643 non-null  float64       \n",
      " 17  stock_low        1166643 non-null  float64       \n",
      " 18  stock_close      1166643 non-null  float64       \n",
      " 19  stock_adj_close  1166643 non-null  float64       \n",
      " 20  stock_volume     1166643 non-null  int64         \n",
      " 21  dte              1166643 non-null  int64         \n",
      " 22  daily_returns    1166643 non-null  float64       \n",
      " 23  volatility       1166643 non-null  float64       \n",
      "dtypes: datetime64[ns](2), float64(14), int64(6), object(2)\n",
      "memory usage: 222.5+ MB\n"
     ]
    }
   ],
   "source": [
    "df.info()"
   ]
  },
  {
   "cell_type": "code",
   "execution_count": null,
   "metadata": {},
   "outputs": [],
   "source": []
  },
  {
   "cell_type": "markdown",
   "metadata": {},
   "source": [
    "#### Encoding categorical data\n",
    "\n",
    "Remember to encode categorical data"
   ]
  },
  {
   "cell_type": "code",
   "execution_count": 92,
   "metadata": {},
   "outputs": [],
   "source": [
    "data = df.copy()\n",
    "\n",
    "# Perform one-hot encoding for cp_flag and ticker columns\n",
    "encoded_data = pd.get_dummies(data, columns=['cp_flag', 'ticker'], drop_first=False)\n",
    "\n"
   ]
  },
  {
   "cell_type": "markdown",
   "metadata": {},
   "source": [
    "## Exploratory Data Analysis"
   ]
  },
  {
   "cell_type": "code",
   "execution_count": 120,
   "metadata": {},
   "outputs": [
    {
     "name": "stdout",
     "output_type": "stream",
     "text": [
      "<class 'pandas.core.frame.DataFrame'>\n",
      "Index: 169579 entries, 61 to 1042995\n",
      "Data columns (total 24 columns):\n",
      " #   Column           Non-Null Count   Dtype         \n",
      "---  ------           --------------   -----         \n",
      " 0   date             169579 non-null  datetime64[ns]\n",
      " 1   exdate           169579 non-null  datetime64[ns]\n",
      " 2   cp_flag          169579 non-null  object        \n",
      " 3   strike_price     169579 non-null  int64         \n",
      " 4   best_bid         169579 non-null  float64       \n",
      " 5   best_offer       169579 non-null  float64       \n",
      " 6   opt_volume       169579 non-null  int64         \n",
      " 7   open_interest    169579 non-null  int64         \n",
      " 8   impl_volatility  169579 non-null  float64       \n",
      " 9   delta            169579 non-null  float64       \n",
      " 10  gamma            169579 non-null  float64       \n",
      " 11  vega             169579 non-null  float64       \n",
      " 12  theta            169579 non-null  float64       \n",
      " 13  contract_size    169579 non-null  int64         \n",
      " 14  ticker           169579 non-null  object        \n",
      " 15  stock_open       169579 non-null  float64       \n",
      " 16  stock_high       169579 non-null  float64       \n",
      " 17  stock_low        169579 non-null  float64       \n",
      " 18  stock_close      169579 non-null  float64       \n",
      " 19  stock_adj_close  169579 non-null  float64       \n",
      " 20  stock_volume     169579 non-null  int64         \n",
      " 21  dte              169579 non-null  int64         \n",
      " 22  daily_returns    169579 non-null  float64       \n",
      " 23  volatility       169579 non-null  float64       \n",
      "dtypes: datetime64[ns](2), float64(14), int64(6), object(2)\n",
      "memory usage: 32.3+ MB\n"
     ]
    }
   ],
   "source": [
    "amd = df[df['ticker']=='AMD']\n",
    "amd = df[(df['ticker']=='AMD') & (df['cp_flag']=='C')]\n",
    "amd.info()"
   ]
  },
  {
   "cell_type": "code",
   "execution_count": 116,
   "metadata": {},
   "outputs": [
    {
     "data": {
      "text/plain": [
       "array(['AMD'], dtype=object)"
      ]
     },
     "execution_count": 116,
     "metadata": {},
     "output_type": "execute_result"
    }
   ],
   "source": [
    "amd['ticker'].unique()"
   ]
  },
  {
   "cell_type": "code",
   "execution_count": 123,
   "metadata": {},
   "outputs": [
    {
     "name": "stdout",
     "output_type": "stream",
     "text": [
      "              date     exdate cp_flag  strike_price  best_bid  best_offer  \\\n",
      "61      2022-02-28 2022-03-25       C        100000     22.40       25.40   \n",
      "66      2022-02-28 2022-03-25       C        101000     21.45       24.50   \n",
      "67      2022-02-28 2022-03-25       C        102000     20.45       23.80   \n",
      "68      2022-02-28 2022-03-25       C        103000     19.60       23.00   \n",
      "69      2022-02-28 2022-03-25       C        104000     18.80       22.00   \n",
      "...            ...        ...     ...           ...       ...         ...   \n",
      "1042991 2023-02-28 2025-01-17       C         75000     24.20       24.85   \n",
      "1042992 2023-02-28 2025-01-17       C         80000     21.65       22.55   \n",
      "1042993 2023-02-28 2025-01-17       C         85000     19.60       20.55   \n",
      "1042994 2023-02-28 2025-01-17       C         90000     17.75       18.95   \n",
      "1042995 2023-02-28 2025-01-17       C         95000     16.00       17.45   \n",
      "\n",
      "         opt_volume  open_interest  impl_volatility     delta     gamma  \\\n",
      "61                4             73         0.553807  0.936005  0.007011   \n",
      "66                0             13         0.550426  0.928047  0.007721   \n",
      "67                2             30         0.560498  0.914737  0.008623   \n",
      "68                0              6         0.570834  0.900245  0.009509   \n",
      "69                0              2         0.564997  0.890527  0.010276   \n",
      "...             ...            ...              ...       ...       ...   \n",
      "1042991          87           2975         0.479368  0.706407  0.006648   \n",
      "1042992          37           4129         0.467884  0.670002  0.007165   \n",
      "1042993          32           1444         0.462999  0.634035  0.007523   \n",
      "1042994          15           3168         0.461721  0.599372  0.007750   \n",
      "1042995           2           1426         0.459390  0.565211  0.007933   \n",
      "\n",
      "              vega      theta  contract_size ticker  stock_open  stock_high  \\\n",
      "61        4.047423 -16.788920            100    AMD  120.309998  124.610001   \n",
      "66        4.425576 -18.227230            100    AMD  120.309998  124.610001   \n",
      "67        5.037852 -21.034850            100    AMD  120.309998  124.610001   \n",
      "68        5.650795 -23.993290            100    AMD  120.309998  124.610001   \n",
      "69        6.040192 -25.376390            100    AMD  120.309998  124.610001   \n",
      "...            ...        ...            ...    ...         ...         ...   \n",
      "1042991  37.172010  -6.262608            100    AMD   77.870003   80.139999   \n",
      "1042992  39.102800  -6.366847            100    AMD   77.870003   80.139999   \n",
      "1042993  40.618890  -6.462968            100    AMD   77.870003   80.139999   \n",
      "1042994  41.734020  -6.535411            100    AMD   77.870003   80.139999   \n",
      "1042995  42.494440  -6.550428            100    AMD   77.870003   80.139999   \n",
      "\n",
      "          stock_low  stock_close  stock_adj_close  stock_volume  dte  \\\n",
      "61       119.199997   123.339996       123.339996     124666100   25   \n",
      "66       119.199997   123.339996       123.339996     124666100   25   \n",
      "67       119.199997   123.339996       123.339996     124666100   25   \n",
      "68       119.199997   123.339996       123.339996     124666100   25   \n",
      "69       119.199997   123.339996       123.339996     124666100   25   \n",
      "...             ...          ...              ...           ...  ...   \n",
      "1042991   77.419998    78.580002        78.580002      44220100  689   \n",
      "1042992   77.419998    78.580002        78.580002      44220100  689   \n",
      "1042993   77.419998    78.580002        78.580002      44220100  689   \n",
      "1042994   77.419998    78.580002        78.580002      44220100  689   \n",
      "1042995   77.419998    78.580002        78.580002      44220100  689   \n",
      "\n",
      "         daily_returns  volatility  \n",
      "61                 0.0    0.047616  \n",
      "66                 0.0    0.047616  \n",
      "67                 0.0    0.047616  \n",
      "68                 0.0    0.047616  \n",
      "69                 0.0    0.047616  \n",
      "...                ...         ...  \n",
      "1042991            0.0    0.047616  \n",
      "1042992            0.0    0.047616  \n",
      "1042993            0.0    0.047616  \n",
      "1042994            0.0    0.047616  \n",
      "1042995            0.0    0.047616  \n",
      "\n",
      "[169579 rows x 24 columns]\n"
     ]
    }
   ],
   "source": [
    "print(amd)"
   ]
  },
  {
   "cell_type": "code",
   "execution_count": 121,
   "metadata": {},
   "outputs": [],
   "source": [
    "# Function to calculate correlation coefficient between two arrays\n",
    "\n",
    "def corr(x, y, **kwargs):\n",
    "    # Calculate the value\n",
    "    coef = np.corrcoef(x, y)[0][1]\n",
    "    # Make the label\n",
    "    label = r\"$\\rho$ = \" + str(round(coef, 2))\n",
    "\n",
    "    # Add the label to the plot\n",
    "    ax = plt.gca()\n",
    "    ax.annotate(label, xy=(0.3, 0.15), size=20, xycoords=ax.transAxes)\n"
   ]
  },
  {
   "cell_type": "code",
   "execution_count": 118,
   "metadata": {},
   "outputs": [],
   "source": [
    "# # Create the default pairplot\n",
    "# grid = sns.pairplot(\n",
    "#     amd, vars=[\"best_bid\", \"best_offer\", \"opt_volume\", \"impl_volatility\"], height=3\n",
    "# )\n",
    "\n",
    " \n",
    "# # Map a scatter plot and Pearson correlation coefficient to the upper triangle\n",
    "# grid = grid.map_upper(plt.scatter)\n",
    "# grid = grid.map_upper(corr)\n",
    "\n",
    "# # Map a histogram to the diagonal\n",
    "# # grid = grid.map_diag(plt.hist)\n",
    "\n",
    "# # Map a density plot and regression line to the lower triangle\n",
    "# grid = grid.map_lower(sns.kdeplot)\n",
    "# grid = grid.map_lower(sns.regplot, lowess=True, line_kws={\"color\": \"red\"})"
   ]
  },
  {
   "cell_type": "code",
   "execution_count": 122,
   "metadata": {},
   "outputs": [
    {
     "data": {
      "image/png": "[encoded data removed]",
      "text/plain": [
       "<Figure size 1000x1000 with 2 Axes>"
      ]
     },
     "metadata": {},
     "output_type": "display_data"
    }
   ],
   "source": [
    "# Correlation plot of all the variables\n",
    "\n",
    "columns_corr = ['strike_price','best_bid', 'best_offer', \n",
    "                'opt_volume','impl_volatility', 'delta', \n",
    "                'gamma', 'vega', 'theta',  \n",
    "                'stock_adj_close', 'stock_volume', 'volatility', 'dte']\n",
    "     \n",
    "\n",
    "fig, ax = plt.subplots(figsize=(10,10))         # Sample figsize in inches\n",
    "     \n",
    "data = amd[columns_corr]\n",
    "c=data.corr()\n",
    "sns.heatmap(c, annot=True, ax=ax)\n",
    "plt.show()"
   ]
  },
  {
   "cell_type": "code",
   "execution_count": null,
   "metadata": {},
   "outputs": [],
   "source": []
  },
  {
   "cell_type": "code",
   "execution_count": 98,
   "metadata": {},
   "outputs": [],
   "source": [
    "\n"
   ]
  },
  {
   "cell_type": "code",
   "execution_count": null,
   "metadata": {},
   "outputs": [],
   "source": []
  },
  {
   "cell_type": "code",
   "execution_count": null,
   "metadata": {},
   "outputs": [],
   "source": []
  },
  {
   "cell_type": "code",
   "execution_count": null,
   "metadata": {},
   "outputs": [],
   "source": []
  },
  {
   "cell_type": "markdown",
   "metadata": {},
   "source": [
    "### Black-Scholes-Merton Models"
   ]
  },
  {
   "cell_type": "markdown",
   "metadata": {},
   "source": [
    "Reference: World Quant University"
   ]
  },
  {
   "cell_type": "code",
   "execution_count": 133,
   "metadata": {},
   "outputs": [],
   "source": [
    "import math\n",
    "import QuantLib as ql"
   ]
  },
  {
   "cell_type": "code",
   "execution_count": 132,
   "metadata": {},
   "outputs": [],
   "source": [
    "\n",
    "def option_price_european(\n",
    "    S0, K, days_to_maturity, r, sigma, call=True, engine=\"BS\", steps=200, paths=10000\n",
    "):\n",
    "    \"\"\"\n",
    "    This function returns the price of a European Call with 3 different price engines: BS, BT and MC.\n",
    "    \"\"\"\n",
    "\n",
    "    # Setting up the dates\n",
    "    today = ql.Date().todaysDate()\n",
    "    maturity = today + days_to_maturity\n",
    "\n",
    "    # Choosing the type of the option\n",
    "    if call:\n",
    "        option_type = ql.Option.Call\n",
    "    else:\n",
    "        option_type = ql.Option.Put\n",
    "\n",
    "    # Creating the payoff\n",
    "    payoff = ql.PlainVanillaPayoff(option_type, K)\n",
    "\n",
    "    europeanExercise = ql.EuropeanExercise(maturity)\n",
    "    europeanOption = ql.VanillaOption(payoff, europeanExercise)\n",
    "\n",
    "    # Setting up the option's characteristics\n",
    "    spot = ql.SimpleQuote(S0)\n",
    "    riskFreeTS = ql.YieldTermStructureHandle(\n",
    "        ql.FlatForward(today, r, ql.Actual365Fixed())\n",
    "    )\n",
    "    volTS = ql.BlackVolTermStructureHandle(\n",
    "        ql.BlackConstantVol(today, ql.NullCalendar(), sigma, ql.Actual365Fixed())\n",
    "    )\n",
    "\n",
    "    # We will use the analytical way of pricing the options\n",
    "    process = ql.BlackScholesProcess(ql.QuoteHandle(spot), riskFreeTS, volTS)\n",
    "\n",
    "    if engine == \"BS\":\n",
    "        engine = ql.AnalyticEuropeanEngine(process)\n",
    "    elif engine == \"BT\":\n",
    "        engine = ql.BinomialVanillaEngine(process, \"crr\", steps)\n",
    "    elif engine == \"MC\":\n",
    "        engine = ql.MCEuropeanEngine(\n",
    "            process, \"PseudoRandom\", timeSteps=steps, requiredSamples=paths\n",
    "        )\n",
    "    europeanOption.setPricingEngine(engine)\n",
    "\n",
    "    return europeanOption.NPV()  # NPV stands for Net Present Value\n",
    "\n",
    "def option_price_american(S0, K, days_to_maturity, r, sigma, call=True, steps=300):\n",
    "    \"\"\"\n",
    "    This Function returns the price of an American option using a binomial tree\n",
    "    \"\"\"\n",
    "    # Setting up the dates\n",
    "    today = ql.Date().todaysDate()\n",
    "    maturity = today + days_to_maturity\n",
    "\n",
    "    # Choosing the type of the option\n",
    "    if call:\n",
    "        option_type = ql.Option.Call\n",
    "    else:\n",
    "        option_type = ql.Option.Put\n",
    "\n",
    "    # Creating the payoff\n",
    "    payoff = ql.PlainVanillaPayoff(option_type, K)\n",
    "\n",
    "    americanExercise = ql.AmericanExercise(today, maturity)\n",
    "    americanOption = ql.VanillaOption(payoff, americanExercise)\n",
    "\n",
    "    # Setting up the option's characteristics\n",
    "    spot = ql.SimpleQuote(S0)\n",
    "    riskFreeTS = ql.YieldTermStructureHandle(\n",
    "        ql.FlatForward(today, r, ql.Actual365Fixed())\n",
    "    )\n",
    "    volTS = ql.BlackVolTermStructureHandle(\n",
    "        ql.BlackConstantVol(today, ql.NullCalendar(), sigma, ql.Actual365Fixed())\n",
    "    )\n",
    "    process = ql.BlackScholesProcess(ql.QuoteHandle(spot), riskFreeTS, volTS)\n",
    "\n",
    "    # We will use a binomial tree in order to price the american options\n",
    "    engine = ql.BinomialVanillaEngine(process, \"crr\", steps)\n",
    "    americanOption.setPricingEngine(engine)\n",
    "    return americanOption.NPV()"
   ]
  },
  {
   "cell_type": "code",
   "execution_count": 126,
   "metadata": {},
   "outputs": [
    {
     "data": {
      "text/plain": [
       "[2.4934, 2.4905, 2.5312]"
      ]
     },
     "execution_count": 126,
     "metadata": {},
     "output_type": "execute_result"
    }
   ],
   "source": [
    "callBS = round(\n",
    "    option_price_european(\n",
    "        100, 100, 30, 0.05, 0.2, call=True, engine=\"BS\", steps=200, paths=10000\n",
    "    ),\n",
    "    4,\n",
    ")\n",
    "callBT = round(\n",
    "    option_price_european(\n",
    "        100, 100, 30, 0.05, 0.2, call=True, engine=\"BT\", steps=200, paths=10000\n",
    "    ),\n",
    "    4,\n",
    ")\n",
    "callMC = round(\n",
    "    option_price_european(\n",
    "        100, 100, 30, 0.05, 0.2, call=True, engine=\"MC\", steps=200, paths=10000\n",
    "    ),\n",
    "    4,\n",
    ")\n",
    "[callBS, callBT, callMC]"
   ]
  },
  {
   "cell_type": "code",
   "execution_count": 134,
   "metadata": {},
   "outputs": [
    {
     "data": {
      "text/plain": [
       "[2.0833, 2.0804, 2.0947]"
      ]
     },
     "execution_count": 134,
     "metadata": {},
     "output_type": "execute_result"
    }
   ],
   "source": [
    "putBS = round(\n",
    "    option_price_european(\n",
    "        100, 100, 30, 0.05, 0.2, call=False, engine=\"BS\", steps=200, paths=10000\n",
    "    ),\n",
    "    4,\n",
    ")\n",
    "putBT = round(\n",
    "    option_price_european(\n",
    "        100, 100, 30, 0.05, 0.2, call=False, engine=\"BT\", steps=200, paths=10000\n",
    "    ),\n",
    "    4,\n",
    ")\n",
    "putMC = round(\n",
    "    option_price_european(\n",
    "        100, 100, 30, 0.05, 0.2, call=False, engine=\"MC\", steps=200, paths=10000\n",
    "    ),\n",
    "    4,\n",
    ")\n",
    "\n",
    "[putBS, putBT, putMC]"
   ]
  },
  {
   "cell_type": "code",
   "execution_count": 128,
   "metadata": {},
   "outputs": [
    {
     "data": {
      "text/plain": [
       "0.4101"
      ]
     },
     "execution_count": 128,
     "metadata": {},
     "output_type": "execute_result"
    }
   ],
   "source": [
    "c = callBS\n",
    "p = putBS\n",
    "round(c - p, 6)"
   ]
  },
  {
   "cell_type": "code",
   "execution_count": 131,
   "metadata": {},
   "outputs": [
    {
     "data": {
      "text/plain": [
       "0.410116"
      ]
     },
     "execution_count": 131,
     "metadata": {},
     "output_type": "execute_result"
    }
   ],
   "source": [
    "S = 100\n",
    "K = 100\n",
    "r = 0.05\n",
    "t = 30 / 365\n",
    "round(S - K * math.exp(-r * t), 6)"
   ]
  },
  {
   "cell_type": "code",
   "execution_count": null,
   "metadata": {},
   "outputs": [],
   "source": []
  }
 ],
 "metadata": {
  "kernelspec": {
   "display_name": "Python 3",
   "language": "python",
   "name": "python3"
  },
  "language_info": {
   "codemirror_mode": {
    "name": "ipython",
    "version": 3
   },
   "file_extension": ".py",
   "mimetype": "text/x-python",
   "name": "python",
   "nbconvert_exporter": "python",
   "pygments_lexer": "ipython3",
   "version": "3.11.7"
  },
  "nbTranslate": {
   "displayLangs": [
    "*"
   ],
   "hotkey": "alt-t",
   "langInMainMenu": true,
   "sourceLang": "en",
   "targetLang": "fr",
   "useGoogleTranslate": true
  },
  "toc": {
   "base_numbering": 1,
   "nav_menu": {},
   "number_sections": true,
   "sideBar": true,
   "skip_h1_title": false,
   "title_cell": "Table of Contents",
   "title_sidebar": "Contents",
   "toc_cell": false,
   "toc_position": {},
   "toc_section_display": true,
   "toc_window_display": true
  },
  "varInspector": {
   "cols": {
    "lenName": 16,
    "lenType": 16,
    "lenVar": 40
   },
   "kernels_config": {
    "python": {
     "delete_cmd_postfix": "",
     "delete_cmd_prefix": "del ",
     "library": "var_list.py",
     "varRefreshCmd": "print(var_dic_list())"
    },
    "r": {
     "delete_cmd_postfix": ") ",
     "delete_cmd_prefix": "rm(",
     "library": "var_list.r",
     "varRefreshCmd": "cat(var_dic_list()) "
    }
   },
   "types_to_exclude": [
    "module",
    "function",
    "builtin_function_or_method",
    "instance",
    "_Feature"
   ],
   "window_display": false
  }
 },
 "nbformat": 4,
 "nbformat_minor": 2
}
