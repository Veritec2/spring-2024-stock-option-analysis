{
 "cells": [
  {
   "cell_type": "markdown",
   "metadata": {},
   "source": [
    "# Stock Options Analysis"
   ]
  },
  {
   "cell_type": "code",
   "execution_count": 8,
   "metadata": {},
   "outputs": [],
   "source": [
    "import pandas as pd\n",
    "import numpy as np\n",
    "import matplotlib.pyplot as plt\n",
    "import seaborn as sns\n",
    "import os \n",
    "import yfinance as yf\n",
    "sns.set_style(\"whitegrid\")\n",
    "pd.set_option('display.max_columns', None)  # Set to display all columns of dataframes"
   ]
  },
  {
   "cell_type": "markdown",
   "metadata": {},
   "source": [
    "## Data\n",
    "\n",
    "Let us try to study the Black-Scholes Model, which require the information\n",
    "\n",
    "i. ***Stock Price (S)***: the corresponding stock prices for each option.\\\n",
    "\n",
    "ii.***Strike Price (K)***: data under the column strike_price.\n",
    "\n",
    "iii. ***Time to Expiry (T)***: subtracting the current date from the expiration date (exdate). Convert the resulting timedelta to years.\n",
    "\n",
    "iv. ***Risk-free Interest Rate (r)***: determine an appropriate risk-free interest rate to use in the model. \n",
    "\n",
    "v. ***Volatility (σ)***: implied volatility, available in your data. "
   ]
  },
  {
   "cell_type": "markdown",
   "metadata": {},
   "source": [
    "### Load options data and download stock data"
   ]
  },
  {
   "cell_type": "code",
   "execution_count": 9,
   "metadata": {},
   "outputs": [
    {
     "name": "stderr",
     "output_type": "stream",
     "text": [
      "/var/folders/q5/69ygwl597nd8rn5pmqr01b580000gn/T/ipykernel_12342/4023190986.py:5: DtypeWarning: Columns (23,26,32) have mixed types. Specify dtype option on import or set low_memory=False.\n",
      "  options_data = pd.read_csv('../data/options_data.csv')\n"
     ]
    },
    {
     "name": "stdout",
     "output_type": "stream",
     "text": [
      "<class 'pandas.core.frame.DataFrame'>\n",
      "RangeIndex: 1386118 entries, 0 to 1386117\n",
      "Data columns (total 38 columns):\n",
      " #   Column            Non-Null Count    Dtype  \n",
      "---  ------            --------------    -----  \n",
      " 0   secid             1386118 non-null  int64  \n",
      " 1   date              1386118 non-null  object \n",
      " 2   symbol            1386118 non-null  object \n",
      " 3   symbol_flag       1386118 non-null  int64  \n",
      " 4   exdate            1386118 non-null  object \n",
      " 5   last_date         1263749 non-null  object \n",
      " 6   cp_flag           1386118 non-null  object \n",
      " 7   strike_price      1386118 non-null  int64  \n",
      " 8   best_bid          1386118 non-null  float64\n",
      " 9   best_offer        1386118 non-null  float64\n",
      " 10  volume            1386118 non-null  int64  \n",
      " 11  open_interest     1386118 non-null  int64  \n",
      " 12  impl_volatility   1166644 non-null  float64\n",
      " 13  delta             1166644 non-null  float64\n",
      " 14  gamma             1166644 non-null  float64\n",
      " 15  vega              1166644 non-null  float64\n",
      " 16  theta             1166644 non-null  float64\n",
      " 17  optionid          1386118 non-null  int64  \n",
      " 18  cfadj             1386118 non-null  int64  \n",
      " 19  am_settlement     1386118 non-null  int64  \n",
      " 20  contract_size     1386118 non-null  int64  \n",
      " 21  ss_flag           1386118 non-null  int64  \n",
      " 22  forward_price     0 non-null        float64\n",
      " 23  expiry_indicator  438126 non-null   object \n",
      " 24  root              0 non-null        float64\n",
      " 25  suffix            0 non-null        float64\n",
      " 26  cusip             1386118 non-null  object \n",
      " 27  ticker            1386118 non-null  object \n",
      " 28  sic               1386118 non-null  int64  \n",
      " 29  index_flag        1386118 non-null  int64  \n",
      " 30  exchange_d        1386118 non-null  int64  \n",
      " 31  class             0 non-null        float64\n",
      " 32  issue_type        1386118 non-null  object \n",
      " 33  industry_group    34966 non-null    float64\n",
      " 34  issuer            1386118 non-null  object \n",
      " 35  div_convention    0 non-null        float64\n",
      " 36  exercise_style    1386118 non-null  object \n",
      " 37  am_set_flag       0 non-null        float64\n",
      "dtypes: float64(14), int64(13), object(11)\n",
      "memory usage: 401.9+ MB\n",
      "None\n"
     ]
    }
   ],
   "source": [
    "current_dir = os.getcwd()\n",
    "# print(\"Current directory:\", current_dir)\n",
    "\n",
    "# Read the CSV file into a DataFrame\n",
    "options_data = pd.read_csv('../data/options_data.csv')\n",
    "\n",
    "print(options_data.info())\n"
   ]
  },
  {
   "cell_type": "markdown",
   "metadata": {},
   "source": [
    "## Clean data"
   ]
  },
  {
   "cell_type": "code",
   "execution_count": 10,
   "metadata": {},
   "outputs": [
    {
     "name": "stdout",
     "output_type": "stream",
     "text": [
      "<class 'pandas.core.frame.DataFrame'>\n",
      "RangeIndex: 1386118 entries, 0 to 1386117\n",
      "Data columns (total 38 columns):\n",
      " #   Column            Non-Null Count    Dtype  \n",
      "---  ------            --------------    -----  \n",
      " 0   secid             1386118 non-null  int64  \n",
      " 1   date              1386118 non-null  object \n",
      " 2   symbol            1386118 non-null  object \n",
      " 3   symbol_flag       1386118 non-null  int64  \n",
      " 4   exdate            1386118 non-null  object \n",
      " 5   last_date         1263749 non-null  object \n",
      " 6   cp_flag           1386118 non-null  object \n",
      " 7   strike_price      1386118 non-null  int64  \n",
      " 8   best_bid          1386118 non-null  float64\n",
      " 9   best_offer        1386118 non-null  float64\n",
      " 10  volume            1386118 non-null  int64  \n",
      " 11  open_interest     1386118 non-null  int64  \n",
      " 12  impl_volatility   1166644 non-null  float64\n",
      " 13  delta             1166644 non-null  float64\n",
      " 14  gamma             1166644 non-null  float64\n",
      " 15  vega              1166644 non-null  float64\n",
      " 16  theta             1166644 non-null  float64\n",
      " 17  optionid          1386118 non-null  int64  \n",
      " 18  cfadj             1386118 non-null  int64  \n",
      " 19  am_settlement     1386118 non-null  int64  \n",
      " 20  contract_size     1386118 non-null  int64  \n",
      " 21  ss_flag           1386118 non-null  int64  \n",
      " 22  forward_price     0 non-null        float64\n",
      " 23  expiry_indicator  438126 non-null   object \n",
      " 24  root              0 non-null        float64\n",
      " 25  suffix            0 non-null        float64\n",
      " 26  cusip             1386118 non-null  object \n",
      " 27  ticker            1386118 non-null  object \n",
      " 28  sic               1386118 non-null  int64  \n",
      " 29  index_flag        1386118 non-null  int64  \n",
      " 30  exchange_d        1386118 non-null  int64  \n",
      " 31  class             0 non-null        float64\n",
      " 32  issue_type        1386118 non-null  object \n",
      " 33  industry_group    34966 non-null    float64\n",
      " 34  issuer            1386118 non-null  object \n",
      " 35  div_convention    0 non-null        float64\n",
      " 36  exercise_style    1386118 non-null  object \n",
      " 37  am_set_flag       0 non-null        float64\n",
      "dtypes: float64(14), int64(13), object(11)\n",
      "memory usage: 401.9+ MB\n"
     ]
    }
   ],
   "source": [
    "options_data.info()"
   ]
  },
  {
   "cell_type": "code",
   "execution_count": 11,
   "metadata": {},
   "outputs": [
    {
     "data": {
      "text/plain": [
       "secid                     0\n",
       "date                      0\n",
       "symbol                    0\n",
       "symbol_flag               0\n",
       "exdate                    0\n",
       "last_date            122369\n",
       "cp_flag                   0\n",
       "strike_price              0\n",
       "best_bid                  0\n",
       "best_offer                0\n",
       "volume                    0\n",
       "open_interest             0\n",
       "impl_volatility      219474\n",
       "delta                219474\n",
       "gamma                219474\n",
       "vega                 219474\n",
       "theta                219474\n",
       "optionid                  0\n",
       "cfadj                     0\n",
       "am_settlement             0\n",
       "contract_size             0\n",
       "ss_flag                   0\n",
       "forward_price       1386118\n",
       "expiry_indicator     947992\n",
       "root                1386118\n",
       "suffix              1386118\n",
       "cusip                     0\n",
       "ticker                    0\n",
       "sic                       0\n",
       "index_flag                0\n",
       "exchange_d                0\n",
       "class               1386118\n",
       "issue_type                0\n",
       "industry_group      1351152\n",
       "issuer                    0\n",
       "div_convention      1386118\n",
       "exercise_style            0\n",
       "am_set_flag         1386118\n",
       "dtype: int64"
      ]
     },
     "execution_count": 11,
     "metadata": {},
     "output_type": "execute_result"
    }
   ],
   "source": [
    "options_data.isnull().sum()"
   ]
  },
  {
   "cell_type": "markdown",
   "metadata": {},
   "source": [
    "#### Drop all columns with all missing values and unnecessary categorical columns \n",
    "\n",
    "After dropping columns that do not have values, we have the remainging columns as below. We can drop more columns as we understand the nature of dataset and those columns may not influence our machine learning model. \n",
    "\n",
    "secid: Security ID, a unique identifier for each security.\n",
    "\n",
    "date: Date of the options data.\n",
    "\n",
    "symbol: Symbol of the security.\n",
    " \n",
    "symbol_flag: Flag indicating the type of symbol.\n",
    " \n",
    "exdate: Expiration date of the option.\n",
    "\n",
    "last_date: Last trading date of the option.\n",
    "\n",
    "cp_flag: Call (C) or Put (P) option flag.\n",
    "\n",
    "strike_price: Strike price of the option.\n",
    "\n",
    "best_bid: Best bid price for the option.\n",
    "\n",
    "best_offer: Best offer price for the option.\n",
    "\n",
    "volume: Volume of contracts traded.\n",
    "\n",
    "open_interest: Open interest for the option.\n",
    "\n",
    "impl_volatility: Implied volatility of the option.\n",
    "\n",
    "delta: Delta value of the option.\n",
    "\n",
    "gamma: Gamma value of the option.\n",
    "\n",
    "vega: Vega value of the option.\n",
    "\n",
    "theta: Theta value of the option.\n",
    "\n",
    "optionid: Option ID, a unique identifier for each option.\n",
    "\n",
    "cfadj: Adjustment factor for cash flow.\n",
    "\n",
    "am_settlement: American-style settlement flag.\n",
    "\n",
    "contract_size: Size of the contract.\n",
    "\n",
    "ss_flag: Special security flag.\n",
    "\n",
    "expiry_indicator: Expiry indicator, 'w' meaning weekly\n",
    "\n",
    "cusip: CUSIP number, a unique identifier for securities in the U.S. and Canada.\n",
    "\n",
    "ticker: Ticker symbol of the security.\n",
    "\n",
    "sic: Standard Industrial Classification (SIC) code.\n",
    "\n",
    "index_flag: Index security flag.\n",
    "\n",
    "exchange_d: Exchange identifier.\n",
    "\n",
    "issue_type: Type of issue.\n",
    "\n",
    "industry_group: Industry group.\n",
    "\n",
    "issuer: Issuer of the security.\n",
    "\n",
    "exercise_style: Exercise style of the option (e.g., American or European)."
   ]
  },
  {
   "cell_type": "code",
   "execution_count": 12,
   "metadata": {},
   "outputs": [],
   "source": [
    "# Drop all columns with all missing values\n",
    "options_data.dropna(axis=1, how='all', inplace=True)\n"
   ]
  },
  {
   "cell_type": "code",
   "execution_count": 13,
   "metadata": {},
   "outputs": [
    {
     "name": "stdout",
     "output_type": "stream",
     "text": [
      "<class 'pandas.core.frame.DataFrame'>\n",
      "RangeIndex: 1386118 entries, 0 to 1386117\n",
      "Data columns (total 32 columns):\n",
      " #   Column            Non-Null Count    Dtype  \n",
      "---  ------            --------------    -----  \n",
      " 0   secid             1386118 non-null  int64  \n",
      " 1   date              1386118 non-null  object \n",
      " 2   symbol            1386118 non-null  object \n",
      " 3   symbol_flag       1386118 non-null  int64  \n",
      " 4   exdate            1386118 non-null  object \n",
      " 5   last_date         1263749 non-null  object \n",
      " 6   cp_flag           1386118 non-null  object \n",
      " 7   strike_price      1386118 non-null  int64  \n",
      " 8   best_bid          1386118 non-null  float64\n",
      " 9   best_offer        1386118 non-null  float64\n",
      " 10  volume            1386118 non-null  int64  \n",
      " 11  open_interest     1386118 non-null  int64  \n",
      " 12  impl_volatility   1166644 non-null  float64\n",
      " 13  delta             1166644 non-null  float64\n",
      " 14  gamma             1166644 non-null  float64\n",
      " 15  vega              1166644 non-null  float64\n",
      " 16  theta             1166644 non-null  float64\n",
      " 17  optionid          1386118 non-null  int64  \n",
      " 18  cfadj             1386118 non-null  int64  \n",
      " 19  am_settlement     1386118 non-null  int64  \n",
      " 20  contract_size     1386118 non-null  int64  \n",
      " 21  ss_flag           1386118 non-null  int64  \n",
      " 22  expiry_indicator  438126 non-null   object \n",
      " 23  cusip             1386118 non-null  object \n",
      " 24  ticker            1386118 non-null  object \n",
      " 25  sic               1386118 non-null  int64  \n",
      " 26  index_flag        1386118 non-null  int64  \n",
      " 27  exchange_d        1386118 non-null  int64  \n",
      " 28  issue_type        1386118 non-null  object \n",
      " 29  industry_group    34966 non-null    float64\n",
      " 30  issuer            1386118 non-null  object \n",
      " 31  exercise_style    1386118 non-null  object \n",
      "dtypes: float64(8), int64(13), object(11)\n",
      "memory usage: 338.4+ MB\n"
     ]
    }
   ],
   "source": [
    "options_data.info()"
   ]
  },
  {
   "cell_type": "code",
   "execution_count": 14,
   "metadata": {},
   "outputs": [],
   "source": [
    "\n",
    "# Drop some more categorical columns that are not necessary\n",
    "columns_to_drop =['secid', 'symbol', 'symbol_flag', 'last_date', 'optionid',\n",
    "                  'cfadj', 'am_settlement', 'ss_flag', 'expiry_indicator', \n",
    "                  'exchange_d', 'issue_type', 'industry_group', 'issuer',\n",
    "                  'cusip', 'sic', 'index_flag', 'exercise_style'] \n",
    "options_data = options_data.drop(columns=columns_to_drop)\n",
    "\n",
    "# Here are the remaining columns\n",
    "\n",
    "#  0   date             1386118 non-null  object \n",
    "#  1   exdate           1386118 non-null  object \n",
    "#  2   cp_flag          1386118 non-null  object \n",
    "#  3   strike_price     1386118 non-null  int64  \n",
    "#  4   best_bid         1386118 non-null  float64\n",
    "#  5   best_offer       1386118 non-null  float64\n",
    "#  6   volume           1386118 non-null  int64  \n",
    "#  7   open_interest    1386118 non-null  int64  \n",
    "#  8   impl_volatility  1166644 non-null  float64\n",
    "#  9   delta            1166644 non-null  float64\n",
    "#  10  gamma            1166644 non-null  float64\n",
    "#  11  vega             1166644 non-null  float64\n",
    "#  12  theta            1166644 non-null  float64\n",
    "#  13  contract_size    1386118 non-null  int64  \n",
    "#  14  ticker           1386118 non-null  object \n"
   ]
  },
  {
   "cell_type": "code",
   "execution_count": 15,
   "metadata": {},
   "outputs": [
    {
     "name": "stdout",
     "output_type": "stream",
     "text": [
      "<class 'pandas.core.frame.DataFrame'>\n",
      "RangeIndex: 1386118 entries, 0 to 1386117\n",
      "Data columns (total 15 columns):\n",
      " #   Column           Non-Null Count    Dtype  \n",
      "---  ------           --------------    -----  \n",
      " 0   date             1386118 non-null  object \n",
      " 1   exdate           1386118 non-null  object \n",
      " 2   cp_flag          1386118 non-null  object \n",
      " 3   strike_price     1386118 non-null  int64  \n",
      " 4   best_bid         1386118 non-null  float64\n",
      " 5   best_offer       1386118 non-null  float64\n",
      " 6   volume           1386118 non-null  int64  \n",
      " 7   open_interest    1386118 non-null  int64  \n",
      " 8   impl_volatility  1166644 non-null  float64\n",
      " 9   delta            1166644 non-null  float64\n",
      " 10  gamma            1166644 non-null  float64\n",
      " 11  vega             1166644 non-null  float64\n",
      " 12  theta            1166644 non-null  float64\n",
      " 13  contract_size    1386118 non-null  int64  \n",
      " 14  ticker           1386118 non-null  object \n",
      "dtypes: float64(7), int64(4), object(4)\n",
      "memory usage: 158.6+ MB\n"
     ]
    }
   ],
   "source": [
    "options_data.info()"
   ]
  },
  {
   "cell_type": "markdown",
   "metadata": {},
   "source": [
    "#### Convert date columns to datetime"
   ]
  },
  {
   "cell_type": "code",
   "execution_count": 16,
   "metadata": {},
   "outputs": [
    {
     "name": "stdout",
     "output_type": "stream",
     "text": [
      "\n",
      "Unique values in cp_flag column: ['P' 'C']\n",
      "\n",
      "Unique values in ticker column: ['AMD' 'NVDA' 'TSM' 'SMCI']\n",
      "\n",
      "Unique values in contract_size column: [100 172]\n",
      "\n",
      "Unique values in open_interest column: [   43     8   154 ... 42576 14955 15329]\n"
     ]
    }
   ],
   "source": [
    "# Explore categorical columns\n",
    "print(\"\\nUnique values in cp_flag column:\", options_data['cp_flag'].unique())\n",
    "print(\"\\nUnique values in ticker column:\", options_data['ticker'].unique())\n",
    "print(\"\\nUnique values in contract_size column:\", options_data['contract_size'].unique())\n",
    "\n",
    "unique_open_interest = options_data['open_interest'].unique()\n",
    "print(\"\\nUnique values in open_interest column:\", options_data['open_interest'].unique())\n",
    "\n",
    "# for oi in unique_open_interest:\n",
    "#     print(oi)\n"
   ]
  },
  {
   "cell_type": "markdown",
   "metadata": {},
   "source": [
    "***open_interest***\n",
    "ref: https://www.investopedia.com/terms/o/openinterest.asp#:~:text=Open%20interest%20is%20the%20total,tracking%20the%20total%20volume%20traded.\n",
    "\n",
    "\"Open interest is the total number of outstanding derivative contracts for an asset—such as options or futures—that have not been settled. Open interest keeps track of every open position in a particular contract rather than tracking the total volume traded.\""
   ]
  },
  {
   "cell_type": "code",
   "execution_count": 17,
   "metadata": {},
   "outputs": [
    {
     "name": "stdout",
     "output_type": "stream",
     "text": [
      "\n",
      "Summary statistics of numerical columns:\n",
      "        strike_price      best_bid    best_offer        volume  open_interest  \\\n",
      "count  1.386118e+06  1.386118e+06  1.386118e+06  1.386118e+06   1.386118e+06   \n",
      "mean   1.640545e+05  3.690964e+01  3.829978e+01  2.198346e+02   1.229064e+03   \n",
      "std    1.096561e+05  5.998198e+01  6.119734e+01  1.725485e+03   3.150095e+03   \n",
      "min    5.000000e+03  0.000000e+00  1.000000e-02  0.000000e+00   0.000000e+00   \n",
      "25%    8.500000e+04  8.500000e-01  1.200000e+00  0.000000e+00   7.000000e+00   \n",
      "50%    1.300000e+05  1.095000e+01  1.175000e+01  1.000000e+00   1.590000e+02   \n",
      "75%    2.150000e+05  4.620000e+01  4.850000e+01  2.875000e+01   9.540000e+02   \n",
      "max    6.000000e+05  4.853000e+02  4.915500e+02  1.764690e+05   9.757500e+04   \n",
      "\n",
      "       impl_volatility         delta         gamma          vega  \\\n",
      "count     1.166644e+06  1.166644e+06  1.166644e+06  1.166644e+06   \n",
      "mean      6.532276e-01 -1.093080e-02  9.271234e-03  1.646618e+01   \n",
      "std       3.339506e-01  5.886337e-01  1.365108e-02  2.148920e+01   \n",
      "min       8.018000e-02 -9.999280e-01  0.000000e+00  5.160000e-04   \n",
      "25%       4.814620e-01 -4.304412e-01  1.695000e-03  2.109112e+00   \n",
      "50%       5.562720e-01  1.490000e-03  4.514000e-03  7.883527e+00   \n",
      "75%       6.954575e-01  3.862302e-01  1.091800e-02  2.219063e+01   \n",
      "max       2.999406e+00  9.999960e-01  3.568210e-01  1.536658e+02   \n",
      "\n",
      "              theta  contract_size  \n",
      "count  1.166644e+06   1.386118e+06  \n",
      "mean  -1.884714e+01   1.035489e+02  \n",
      "std    3.203529e+01   1.558608e+01  \n",
      "min   -1.014567e+03   1.000000e+02  \n",
      "25%   -2.116794e+01   1.000000e+02  \n",
      "50%   -9.868769e+00   1.000000e+02  \n",
      "75%   -3.972248e+00   1.000000e+02  \n",
      "max    8.139670e+00   1.720000e+02  \n"
     ]
    }
   ],
   "source": [
    "# Explore numerical columns\n",
    "print(\"\\nSummary statistics of numerical columns:\\n\", options_data.describe())"
   ]
  },
  {
   "cell_type": "code",
   "execution_count": 18,
   "metadata": {},
   "outputs": [
    {
     "data": {
      "text/plain": [
       "date                    0\n",
       "exdate                  0\n",
       "cp_flag                 0\n",
       "strike_price            0\n",
       "best_bid                0\n",
       "best_offer              0\n",
       "volume                  0\n",
       "open_interest           0\n",
       "impl_volatility    219474\n",
       "delta              219474\n",
       "gamma              219474\n",
       "vega               219474\n",
       "theta              219474\n",
       "contract_size           0\n",
       "ticker                  0\n",
       "dtype: int64"
      ]
     },
     "execution_count": 18,
     "metadata": {},
     "output_type": "execute_result"
    }
   ],
   "source": [
    "# Double-check null values\n",
    "options_data.isnull().sum()\n",
    "\n",
    "# We observed that there are some missing values of the implied volatility and the Greeks. "
   ]
  },
  {
   "cell_type": "markdown",
   "metadata": {},
   "source": [
    "#### Convert datatime"
   ]
  },
  {
   "cell_type": "code",
   "execution_count": 19,
   "metadata": {},
   "outputs": [],
   "source": [
    "options_data['date'] = pd.to_datetime(options_data['date'])\n",
    "options_data['exdate'] = pd.to_datetime(options_data['exdate'])\n"
   ]
  },
  {
   "cell_type": "markdown",
   "metadata": {},
   "source": [
    "#### Check for dupplicates"
   ]
  },
  {
   "cell_type": "code",
   "execution_count": 20,
   "metadata": {},
   "outputs": [],
   "source": [
    "options_data.drop_duplicates(inplace=True)"
   ]
  },
  {
   "cell_type": "code",
   "execution_count": 21,
   "metadata": {},
   "outputs": [
    {
     "name": "stdout",
     "output_type": "stream",
     "text": [
      "<class 'pandas.core.frame.DataFrame'>\n",
      "RangeIndex: 1386118 entries, 0 to 1386117\n",
      "Data columns (total 15 columns):\n",
      " #   Column           Non-Null Count    Dtype         \n",
      "---  ------           --------------    -----         \n",
      " 0   date             1386118 non-null  datetime64[ns]\n",
      " 1   exdate           1386118 non-null  datetime64[ns]\n",
      " 2   cp_flag          1386118 non-null  object        \n",
      " 3   strike_price     1386118 non-null  int64         \n",
      " 4   best_bid         1386118 non-null  float64       \n",
      " 5   best_offer       1386118 non-null  float64       \n",
      " 6   volume           1386118 non-null  int64         \n",
      " 7   open_interest    1386118 non-null  int64         \n",
      " 8   impl_volatility  1166644 non-null  float64       \n",
      " 9   delta            1166644 non-null  float64       \n",
      " 10  gamma            1166644 non-null  float64       \n",
      " 11  vega             1166644 non-null  float64       \n",
      " 12  theta            1166644 non-null  float64       \n",
      " 13  contract_size    1386118 non-null  int64         \n",
      " 14  ticker           1386118 non-null  object        \n",
      "dtypes: datetime64[ns](2), float64(7), int64(4), object(2)\n",
      "memory usage: 158.6+ MB\n"
     ]
    }
   ],
   "source": [
    "options_data.info()"
   ]
  },
  {
   "cell_type": "markdown",
   "metadata": {},
   "source": [
    "#### Check missing values\n",
    "\n",
    "We observed that there are significant number of missing values of the columns : impl_volatility, and the Greeks. let us drop all these rows"
   ]
  },
  {
   "cell_type": "code",
   "execution_count": 27,
   "metadata": {},
   "outputs": [
    {
     "data": {
      "text/plain": [
       "date               0\n",
       "exdate             0\n",
       "cp_flag            0\n",
       "strike_price       0\n",
       "best_bid           0\n",
       "best_offer         0\n",
       "volume             0\n",
       "open_interest      0\n",
       "impl_volatility    0\n",
       "delta              0\n",
       "gamma              0\n",
       "vega               0\n",
       "theta              0\n",
       "contract_size      0\n",
       "ticker             0\n",
       "dtype: int64"
      ]
     },
     "execution_count": 27,
     "metadata": {},
     "output_type": "execute_result"
    }
   ],
   "source": [
    "options_data.isnull().sum()"
   ]
  },
  {
   "cell_type": "markdown",
   "metadata": {},
   "source": [
    "#### Implied Volatility and the Greeks\n",
    "We need more investigation about the Greeks and the implied volatility, so let us just drop the missing values for now and study based on what we have. In the future, when we have better understanding about them, we may interpolate data instead of dropping them, which reduce the size ot the dataset significantly.\n",
    "\n",
    "Ref: \n",
    "1.https://www.investopedia.com/terms/i/iv.asp#:~:text=Volatility%20(IV)%20Works-,Implied%20volatility%20is%20the%20market's%20forecast%20of%20a%20likely%20movement,the%20symbol%20%CF%83%20(sigma).\n",
    "\n",
    "2. WQU\n",
    "\n",
    "3. https://www.investopedia.com/trading/getting-to-know-the-greeks/#:~:text=Option%20Greeks%20are%20financial%20metrics,price%20of%20the%20underlying%20asset.\n",
    "\n",
    "\n",
    "Implied Volatility: this is a significantly important regarding to stock options, which is the key to the options's price and also influence stock price. Other numeric inputs like, stock price, strike level, risk-free rate, and dividend yield, are easily observed in the market.\n"
   ]
  },
  {
   "cell_type": "code",
   "execution_count": 23,
   "metadata": {},
   "outputs": [],
   "source": [
    "# Drop rows with missing values in the specified columns\n",
    "options_data.dropna(subset=['impl_volatility', 'delta', 'gamma', 'vega', 'theta'], inplace=True)\n"
   ]
  },
  {
   "cell_type": "code",
   "execution_count": null,
   "metadata": {},
   "outputs": [],
   "source": [
    "options_data.describe()"
   ]
  },
  {
   "cell_type": "code",
   "execution_count": null,
   "metadata": {},
   "outputs": [],
   "source": [
    "options_data.head()"
   ]
  },
  {
   "cell_type": "code",
   "execution_count": 25,
   "metadata": {},
   "outputs": [
    {
     "name": "stdout",
     "output_type": "stream",
     "text": [
      "<class 'pandas.core.frame.DataFrame'>\n",
      "Index: 1166644 entries, 0 to 1386117\n",
      "Data columns (total 15 columns):\n",
      " #   Column           Non-Null Count    Dtype         \n",
      "---  ------           --------------    -----         \n",
      " 0   date             1166644 non-null  datetime64[ns]\n",
      " 1   exdate           1166644 non-null  datetime64[ns]\n",
      " 2   cp_flag          1166644 non-null  object        \n",
      " 3   strike_price     1166644 non-null  int64         \n",
      " 4   best_bid         1166644 non-null  float64       \n",
      " 5   best_offer       1166644 non-null  float64       \n",
      " 6   volume           1166644 non-null  int64         \n",
      " 7   open_interest    1166644 non-null  int64         \n",
      " 8   impl_volatility  1166644 non-null  float64       \n",
      " 9   delta            1166644 non-null  float64       \n",
      " 10  gamma            1166644 non-null  float64       \n",
      " 11  vega             1166644 non-null  float64       \n",
      " 12  theta            1166644 non-null  float64       \n",
      " 13  contract_size    1166644 non-null  int64         \n",
      " 14  ticker           1166644 non-null  object        \n",
      "dtypes: datetime64[ns](2), float64(7), int64(4), object(2)\n",
      "memory usage: 142.4+ MB\n"
     ]
    }
   ],
   "source": [
    "options_data.info()"
   ]
  },
  {
   "cell_type": "markdown",
   "metadata": {},
   "source": [
    "#### Encoding categorical data\n",
    "\n",
    "Remember to encode categorical data"
   ]
  },
  {
   "cell_type": "code",
   "execution_count": null,
   "metadata": {},
   "outputs": [],
   "source": [
    "data = options_data.copy()\n",
    "\n",
    "# Perform one-hot encoding for cp_flag and ticker columns\n",
    "encoded_data = pd.get_dummies(data, columns=['cp_flag', 'ticker'], drop_first=False)\n"
   ]
  },
  {
   "cell_type": "code",
   "execution_count": null,
   "metadata": {},
   "outputs": [],
   "source": [
    "encoded_data.head()"
   ]
  },
  {
   "cell_type": "code",
   "execution_count": null,
   "metadata": {},
   "outputs": [],
   "source": [
    "encoded_data.info()"
   ]
  },
  {
   "cell_type": "code",
   "execution_count": null,
   "metadata": {},
   "outputs": [],
   "source": [
    "options_data.info()"
   ]
  },
  {
   "cell_type": "code",
   "execution_count": null,
   "metadata": {},
   "outputs": [],
   "source": [
    "# Visualize distributions of numerical features\n",
    "numerical_cols = ['strike_price', 'best_bid', 'best_offer', 'volume', 'open_interest', 'impl_volatility', 'delta', 'gamma', 'vega', 'theta', 'contract_size']\n",
    "options_data[numerical_cols].hist(figsize=(15, 10))\n",
    "plt.suptitle(\"Histograms of Numerical Features\")\n",
    "plt.show()\n"
   ]
  },
  {
   "cell_type": "code",
   "execution_count": null,
   "metadata": {},
   "outputs": [],
   "source": [
    "\n",
    "# # Visualize relationships between features\n",
    "# sns.pairplot(options_data[numerical_cols])\n",
    "# plt.suptitle(\"Pairplot of Numerical Features\")\n",
    "# plt.show()\n"
   ]
  },
  {
   "cell_type": "code",
   "execution_count": null,
   "metadata": {},
   "outputs": [],
   "source": [
    "\n",
    "# Visualize relationships with target variable (if available)\n",
    "sns.boxplot(x=options_data['cp_flag'], y=options_data['best_bid'])\n",
    "plt.title(\"Boxplot of Best Bid by Call/Put Flag\")\n",
    "plt.show()"
   ]
  },
  {
   "cell_type": "markdown",
   "metadata": {},
   "source": [
    "### Download the corresponding stock price"
   ]
  },
  {
   "cell_type": "code",
   "execution_count": 48,
   "metadata": {},
   "outputs": [
    {
     "name": "stderr",
     "output_type": "stream",
     "text": [
      "[*********************100%%**********************]  1 of 1 completed\n",
      "[*********************100%%**********************]  1 of 1 completed\n",
      "[*********************100%%**********************]  1 of 1 completed"
     ]
    },
    {
     "name": "stderr",
     "output_type": "stream",
     "text": [
      "\n",
      "[*********************100%%**********************]  1 of 1 completed"
     ]
    },
    {
     "name": "stdout",
     "output_type": "stream",
     "text": [
      "['AMD' 'NVDA' 'TSM' 'SMCI']\n"
     ]
    },
    {
     "name": "stderr",
     "output_type": "stream",
     "text": [
      "\n"
     ]
    }
   ],
   "source": [
    "tickers = options_data['ticker'].unique()\n",
    "\n",
    "print(tickers)\n",
    "\n",
    "# Download historical stock data of the correspoonding ticker\n",
    "stock_data = {}\n",
    "for ticker in tickers:\n",
    "    start_date = options_data['date'].min()\n",
    "    end_date = (pd.to_datetime(options_data['date'].max()) + pd.Timedelta(days=1)).date()\n",
    "\n",
    "    stock_data[ticker] = yf.download(ticker, start=start_date, end=end_date)\n",
    "    stock_data[ticker]['ticker'] = ticker  # Add a new column 'Ticker' with ticker symbol\n"
   ]
  },
  {
   "cell_type": "code",
   "execution_count": 49,
   "metadata": {},
   "outputs": [
    {
     "name": "stdout",
     "output_type": "stream",
     "text": [
      "<class 'pandas.core.frame.DataFrame'>\n",
      "DatetimeIndex: 1008 entries, 2022-02-28 to 2023-02-28\n",
      "Data columns (total 8 columns):\n",
      " #   Column     Non-Null Count  Dtype         \n",
      "---  ------     --------------  -----         \n",
      " 0   Open       1008 non-null   float64       \n",
      " 1   High       1008 non-null   float64       \n",
      " 2   Low        1008 non-null   float64       \n",
      " 3   Close      1008 non-null   float64       \n",
      " 4   Adj Close  1008 non-null   float64       \n",
      " 5   Volume     1008 non-null   int64         \n",
      " 6   ticker     1008 non-null   object        \n",
      " 7   date       1008 non-null   datetime64[ns]\n",
      "dtypes: datetime64[ns](1), float64(5), int64(1), object(1)\n",
      "memory usage: 70.9+ KB\n"
     ]
    }
   ],
   "source": [
    "# Combine all stock data into a single DataFrame\n",
    "merged_stock_data = pd.concat(stock_data.values())\n",
    "merged_stock_data['date'] = merged_stock_data.index\n",
    "merged_stock_data.info()\n"
   ]
  },
  {
   "cell_type": "code",
   "execution_count": 42,
   "metadata": {},
   "outputs": [
    {
     "name": "stdout",
     "output_type": "stream",
     "text": [
      "<class 'pandas.core.frame.DataFrame'>\n",
      "DatetimeIndex: 1008 entries, 2022-02-28 to 2023-02-28\n",
      "Data columns (total 7 columns):\n",
      " #   Column     Non-Null Count  Dtype  \n",
      "---  ------     --------------  -----  \n",
      " 0   Open       1008 non-null   float64\n",
      " 1   High       1008 non-null   float64\n",
      " 2   Low        1008 non-null   float64\n",
      " 3   Close      1008 non-null   float64\n",
      " 4   Adj Close  1008 non-null   float64\n",
      " 5   Volume     1008 non-null   int64  \n",
      " 6   Ticker     1008 non-null   object \n",
      "dtypes: float64(5), int64(1), object(1)\n",
      "memory usage: 63.0+ KB\n"
     ]
    }
   ],
   "source": [
    "merged_stock_data.info()"
   ]
  },
  {
   "cell_type": "code",
   "execution_count": 44,
   "metadata": {},
   "outputs": [],
   "source": [
    "merged_stock_data.head()"
   ]
  },
  {
   "cell_type": "code",
   "execution_count": 50,
   "metadata": {},
   "outputs": [
    {
     "data": {
      "text/plain": [
       "array(['AMD', 'NVDA', 'TSM', 'SMCI'], dtype=object)"
      ]
     },
     "execution_count": 50,
     "metadata": {},
     "output_type": "execute_result"
    }
   ],
   "source": [
    "merged_stock_data['ticker'].unique()"
   ]
  },
  {
   "cell_type": "code",
   "execution_count": 51,
   "metadata": {},
   "outputs": [
    {
     "name": "stdout",
     "output_type": "stream",
     "text": [
      "              date     exdate cp_flag  strike_price  best_bid  best_offer  \\\n",
      "0       2022-02-28 2022-03-04       P        143000     18.30       21.70   \n",
      "1       2022-02-28 2022-03-04       P        144000     19.65       22.55   \n",
      "2       2022-02-28 2022-03-04       P        145000     20.45       23.70   \n",
      "3       2022-02-28 2022-03-04       P        146000     21.30       24.75   \n",
      "4       2022-02-28 2022-03-04       P        147000     23.50       25.75   \n",
      "...            ...        ...     ...           ...       ...         ...   \n",
      "1166639 2023-02-28 2023-12-15       P         75000      8.10        9.10   \n",
      "1166640 2023-02-28 2023-12-15       P         80000      9.80       10.90   \n",
      "1166641 2023-02-28 2023-12-15       P         85000     11.80       12.60   \n",
      "1166642 2023-02-28 2023-12-15       P         90000     13.90       14.60   \n",
      "1166643 2023-02-28 2023-12-15       P         95000     16.30       16.80   \n",
      "\n",
      "         volume  open_interest  impl_volatility     delta     gamma  \\\n",
      "0             1             43         0.919996 -0.931618  0.011129   \n",
      "1             0              8         1.009123 -0.921234  0.011298   \n",
      "2             3            154         1.029200 -0.926204  0.010543   \n",
      "3            10             72         1.032943 -0.933979  0.009645   \n",
      "4             6             86         1.347105 -0.879729  0.011528   \n",
      "...         ...            ...              ...       ...       ...   \n",
      "1166639       0             24         0.629463 -0.208292  0.005324   \n",
      "1166640       1             48         0.618646 -0.242801  0.005933   \n",
      "1166641       0             10         0.605194 -0.279102  0.006550   \n",
      "1166642     101             27         0.592809 -0.317389  0.007135   \n",
      "1166643     100              0         0.582820 -0.357158  0.007655   \n",
      "\n",
      "              vega       theta  contract_size ticker        Open        High  \\\n",
      "0         1.700479  -71.049770            100    AMD  120.309998  124.610001   \n",
      "1         1.898582  -86.914090            100    AMD  120.309998  124.610001   \n",
      "2         1.805097  -84.343320            100    AMD  120.309998  124.610001   \n",
      "3         1.653858  -77.666360            100    AMD  120.309998  124.610001   \n",
      "4         2.587893 -158.535200            100    AMD  120.309998  124.610001   \n",
      "...            ...         ...            ...    ...         ...         ...   \n",
      "1166639  24.983320   -8.634860            100   SMCI  100.919998  103.000000   \n",
      "1166640  27.217950   -9.147098            100   SMCI  100.919998  103.000000   \n",
      "1166641  29.219490   -9.484104            100   SMCI  100.919998  103.000000   \n",
      "1166642  30.943880   -9.707250            100   SMCI  100.919998  103.000000   \n",
      "1166643  32.356990   -9.834691            100   SMCI  100.919998  103.000000   \n",
      "\n",
      "                Low       Close   Adj Close     Volume  \n",
      "0        119.199997  123.339996  123.339996  124666100  \n",
      "1        119.199997  123.339996  123.339996  124666100  \n",
      "2        119.199997  123.339996  123.339996  124666100  \n",
      "3        119.199997  123.339996  123.339996  124666100  \n",
      "4        119.199997  123.339996  123.339996  124666100  \n",
      "...             ...         ...         ...        ...  \n",
      "1166639   97.860001   97.970001   97.970001    1741600  \n",
      "1166640   97.860001   97.970001   97.970001    1741600  \n",
      "1166641   97.860001   97.970001   97.970001    1741600  \n",
      "1166642   97.860001   97.970001   97.970001    1741600  \n",
      "1166643   97.860001   97.970001   97.970001    1741600  \n",
      "\n",
      "[1166644 rows x 21 columns]\n"
     ]
    }
   ],
   "source": [
    "# Merge options data and stock data based on common columns (ticker and date)\n",
    "combined_data = pd.merge(options_data, merged_stock_data, on=['ticker', 'date'], how='left')\n",
    "\n",
    "# Print or further process the combined data\n",
    "# print(combined_data)"
   ]
  },
  {
   "cell_type": "code",
   "execution_count": null,
   "metadata": {},
   "outputs": [],
   "source": [
    "#  0   date             1166644 non-null  datetime64[ns]\n",
    "#  1   exdate           1166644 non-null  datetime64[ns]\n",
    "#  2   cp_flag          1166644 non-null  object        \n",
    "#  3   strike_price     1166644 non-null  int64         \n",
    "#  4   best_bid         1166644 non-null  float64       \n",
    "#  5   best_offer       1166644 non-null  float64       \n",
    "#  6   volume           1166644 non-null  int64         \n",
    "#  7   open_interest    1166644 non-null  int64         \n",
    "#  8   impl_volatility  1166644 non-null  float64       \n",
    "#  9   delta            1166644 non-null  float64       \n",
    "#  10  gamma            1166644 non-null  float64       \n",
    "#  11  vega             1166644 non-null  float64       \n",
    "#  12  theta            1166644 non-null  float64       \n",
    "#  13  contract_size    1166644 non-null  int64   "
   ]
  },
  {
   "cell_type": "code",
   "execution_count": 52,
   "metadata": {},
   "outputs": [
    {
     "name": "stdout",
     "output_type": "stream",
     "text": [
      "<class 'pandas.core.frame.DataFrame'>\n",
      "RangeIndex: 1166644 entries, 0 to 1166643\n",
      "Data columns (total 21 columns):\n",
      " #   Column           Non-Null Count    Dtype         \n",
      "---  ------           --------------    -----         \n",
      " 0   date             1166644 non-null  datetime64[ns]\n",
      " 1   exdate           1166644 non-null  datetime64[ns]\n",
      " 2   cp_flag          1166644 non-null  object        \n",
      " 3   strike_price     1166644 non-null  int64         \n",
      " 4   best_bid         1166644 non-null  float64       \n",
      " 5   best_offer       1166644 non-null  float64       \n",
      " 6   volume           1166644 non-null  int64         \n",
      " 7   open_interest    1166644 non-null  int64         \n",
      " 8   impl_volatility  1166644 non-null  float64       \n",
      " 9   delta            1166644 non-null  float64       \n",
      " 10  gamma            1166644 non-null  float64       \n",
      " 11  vega             1166644 non-null  float64       \n",
      " 12  theta            1166644 non-null  float64       \n",
      " 13  contract_size    1166644 non-null  int64         \n",
      " 14  ticker           1166644 non-null  object        \n",
      " 15  Open             1166644 non-null  float64       \n",
      " 16  High             1166644 non-null  float64       \n",
      " 17  Low              1166644 non-null  float64       \n",
      " 18  Close            1166644 non-null  float64       \n",
      " 19  Adj Close        1166644 non-null  float64       \n",
      " 20  Volume           1166644 non-null  int64         \n",
      "dtypes: datetime64[ns](2), float64(12), int64(5), object(2)\n",
      "memory usage: 186.9+ MB\n"
     ]
    }
   ],
   "source": [
    "combined_data.info()"
   ]
  },
  {
   "cell_type": "code",
   "execution_count": null,
   "metadata": {},
   "outputs": [],
   "source": []
  },
  {
   "cell_type": "markdown",
   "metadata": {},
   "source": [
    "## Exploratory Data Analysis"
   ]
  },
  {
   "cell_type": "code",
   "execution_count": null,
   "metadata": {},
   "outputs": [],
   "source": [
    "\n",
    "# Step 3: Feature Engineering, compute days to expiration\n",
    "data['dte'] = (data['exdate'] - data['date']).dt.days\n",
    "data['moneyness'] = data['Adj Close'] / data['strike_price']\n",
    "\n"
   ]
  }
 ],
 "metadata": {
  "kernelspec": {
   "display_name": "Python 3",
   "language": "python",
   "name": "python3"
  },
  "language_info": {
   "codemirror_mode": {
    "name": "ipython",
    "version": 3
   },
   "file_extension": ".py",
   "mimetype": "text/x-python",
   "name": "python",
   "nbconvert_exporter": "python",
   "pygments_lexer": "ipython3",
   "version": "3.11.7"
  },
  "nbTranslate": {
   "displayLangs": [
    "*"
   ],
   "hotkey": "alt-t",
   "langInMainMenu": true,
   "sourceLang": "en",
   "targetLang": "fr",
   "useGoogleTranslate": true
  },
  "toc": {
   "base_numbering": 1,
   "nav_menu": {},
   "number_sections": true,
   "sideBar": true,
   "skip_h1_title": false,
   "title_cell": "Table of Contents",
   "title_sidebar": "Contents",
   "toc_cell": false,
   "toc_position": {},
   "toc_section_display": true,
   "toc_window_display": true
  },
  "varInspector": {
   "cols": {
    "lenName": 16,
    "lenType": 16,
    "lenVar": 40
   },
   "kernels_config": {
    "python": {
     "delete_cmd_postfix": "",
     "delete_cmd_prefix": "del ",
     "library": "var_list.py",
     "varRefreshCmd": "print(var_dic_list())"
    },
    "r": {
     "delete_cmd_postfix": ") ",
     "delete_cmd_prefix": "rm(",
     "library": "var_list.r",
     "varRefreshCmd": "cat(var_dic_list()) "
    }
   },
   "types_to_exclude": [
    "module",
    "function",
    "builtin_function_or_method",
    "instance",
    "_Feature"
   ],
   "window_display": false
  }
 },
 "nbformat": 4,
 "nbformat_minor": 2
}
